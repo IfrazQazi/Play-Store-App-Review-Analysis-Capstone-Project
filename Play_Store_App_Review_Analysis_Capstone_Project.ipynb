{
  "nbformat": 4,
  "nbformat_minor": 0,
  "metadata": {
    "kernelspec": {
      "display_name": "Python 3",
      "language": "python",
      "name": "python3"
    },
    "language_info": {
      "codemirror_mode": {
        "name": "ipython",
        "version": 3
      },
      "file_extension": ".py",
      "mimetype": "text/x-python",
      "name": "python",
      "nbconvert_exporter": "python",
      "pygments_lexer": "ipython3",
      "version": "3.6.6"
    },
    "colab": {
      "name": "Play Store App Review Analysis - Capstone Project.ipynb",
      "provenance": [],
      "collapsed_sections": [],
      "include_colab_link": true
    }
  },
  "cells": [
    {
      "cell_type": "markdown",
      "metadata": {
        "id": "view-in-github",
        "colab_type": "text"
      },
      "source": [
        "<a href=\"https://colab.research.google.com/github/IfrazQazi/Play-Store-App-Review-Analysis-Capstone-Project/blob/main/Play_Store_App_Review_Analysis_Capstone_Project.ipynb\" target=\"_parent\"><img src=\"https://colab.research.google.com/assets/colab-badge.svg\" alt=\"Open In Colab\"/></a>"
      ]
    },
    {
      "cell_type": "markdown",
      "metadata": {
        "id": "Y06xIdG26kRF"
      },
      "source": [
        "## <b> The Play Store apps data has enormous potential to drive app-making businesses to success. Actionable insights can be drawn for developers to work on and capture the Android market. </b>\n",
        "\n",
        "## <b> Each app (row) has values for catergory, rating, size, and more. Another dataset contains customer reviews of the android apps.</b>\n",
        "\n",
        "## <b> Explore and analyze the data to discover key factors responsible for app engagement and success. </b>"
      ]
    },
    {
      "cell_type": "markdown",
      "metadata": {
        "id": "ZS8IDxM8OeNY"
      },
      "source": [
        "## First importing libraries and mounting google drive.\n",
        "## loading data into data frame"
      ]
    },
    {
      "cell_type": "code",
      "metadata": {
        "id": "dByMsuzT8Tnw"
      },
      "source": [
        "#importing library\n",
        "import numpy as np\n",
        "import pandas as pd\n",
        "import seaborn as sns\n",
        "import matplotlib.pyplot as plt\n",
        "\n",
        "%matplotlib inline"
      ],
      "execution_count": null,
      "outputs": []
    },
    {
      "cell_type": "code",
      "metadata": {
        "colab": {
          "base_uri": "https://localhost:8080/"
        },
        "id": "rX-RsW-7PKOX",
        "outputId": "4cb60010-ec00-475e-83b7-b734db3c47ad"
      },
      "source": [
        "from google.colab import drive\n",
        "drive.mount('/content/drive')"
      ],
      "execution_count": null,
      "outputs": [
        {
          "output_type": "stream",
          "name": "stdout",
          "text": [
            "Drive already mounted at /content/drive; to attempt to forcibly remount, call drive.mount(\"/content/drive\", force_remount=True).\n"
          ]
        }
      ]
    },
    {
      "cell_type": "code",
      "metadata": {
        "id": "PwELRx_nPVUI"
      },
      "source": [
        "# loading play store data into data frame\n",
        "dir_path='/content/drive/MyDrive/AlmaBetter/Module 1/Capstone Project Play Store App Review Analysis/'\n",
        "play_s_d=pd.read_csv(dir_path+'Play Store Data.csv')"
      ],
      "execution_count": null,
      "outputs": []
    },
    {
      "cell_type": "code",
      "metadata": {
        "id": "p1_QPh44PZMa"
      },
      "source": [
        "# loading User Reviews into data frame\n",
        "user_review=pd.read_csv(dir_path+'User Reviews.csv')"
      ],
      "execution_count": null,
      "outputs": []
    },
    {
      "cell_type": "markdown",
      "metadata": {
        "id": "cIGO4NTWPeAQ"
      },
      "source": [
        "#The objective of this project is to deliver insights to understand customer demands better and help developer to populriaz the application\n",
        "\n",
        "##Discussion of Google play store dataset will involve various steps such as:\n",
        "## 1)loading the data into data frame\n",
        "## 2)cleaning the data\n",
        "## 3)extracting statistics from the dataset\n",
        "## 4)exploratory analysis and visualizations\n",
        "## 5)questions that can be asked from the dataset conclusion\n",
        "#We can move to first step of data analysis by cleaning the data that will make the results more accurate."
      ]
    },
    {
      "cell_type": "code",
      "metadata": {
        "colab": {
          "base_uri": "https://localhost:8080/",
          "height": 458
        },
        "id": "GM7Y3aT3Xru7",
        "outputId": "60f1c935-a611-4b61-d855-11ee36e7cf6e"
      },
      "source": [
        "play_s_d.head(10)"
      ],
      "execution_count": null,
      "outputs": [
        {
          "output_type": "execute_result",
          "data": {
            "text/html": [
              "<div>\n",
              "<style scoped>\n",
              "    .dataframe tbody tr th:only-of-type {\n",
              "        vertical-align: middle;\n",
              "    }\n",
              "\n",
              "    .dataframe tbody tr th {\n",
              "        vertical-align: top;\n",
              "    }\n",
              "\n",
              "    .dataframe thead th {\n",
              "        text-align: right;\n",
              "    }\n",
              "</style>\n",
              "<table border=\"1\" class=\"dataframe\">\n",
              "  <thead>\n",
              "    <tr style=\"text-align: right;\">\n",
              "      <th></th>\n",
              "      <th>App</th>\n",
              "      <th>Category</th>\n",
              "      <th>Rating</th>\n",
              "      <th>Reviews</th>\n",
              "      <th>Size</th>\n",
              "      <th>Installs</th>\n",
              "      <th>Type</th>\n",
              "      <th>Price</th>\n",
              "      <th>Content Rating</th>\n",
              "      <th>Genres</th>\n",
              "      <th>Last Updated</th>\n",
              "      <th>Current Ver</th>\n",
              "      <th>Android Ver</th>\n",
              "    </tr>\n",
              "  </thead>\n",
              "  <tbody>\n",
              "    <tr>\n",
              "      <th>0</th>\n",
              "      <td>Photo Editor &amp; Candy Camera &amp; Grid &amp; ScrapBook</td>\n",
              "      <td>ART_AND_DESIGN</td>\n",
              "      <td>4.1</td>\n",
              "      <td>159</td>\n",
              "      <td>19M</td>\n",
              "      <td>10,000+</td>\n",
              "      <td>Free</td>\n",
              "      <td>0</td>\n",
              "      <td>Everyone</td>\n",
              "      <td>Art &amp; Design</td>\n",
              "      <td>January 7, 2018</td>\n",
              "      <td>1.0.0</td>\n",
              "      <td>4.0.3 and up</td>\n",
              "    </tr>\n",
              "    <tr>\n",
              "      <th>1</th>\n",
              "      <td>Coloring book moana</td>\n",
              "      <td>ART_AND_DESIGN</td>\n",
              "      <td>3.9</td>\n",
              "      <td>967</td>\n",
              "      <td>14M</td>\n",
              "      <td>500,000+</td>\n",
              "      <td>Free</td>\n",
              "      <td>0</td>\n",
              "      <td>Everyone</td>\n",
              "      <td>Art &amp; Design;Pretend Play</td>\n",
              "      <td>January 15, 2018</td>\n",
              "      <td>2.0.0</td>\n",
              "      <td>4.0.3 and up</td>\n",
              "    </tr>\n",
              "    <tr>\n",
              "      <th>2</th>\n",
              "      <td>U Launcher Lite – FREE Live Cool Themes, Hide ...</td>\n",
              "      <td>ART_AND_DESIGN</td>\n",
              "      <td>4.7</td>\n",
              "      <td>87510</td>\n",
              "      <td>8.7M</td>\n",
              "      <td>5,000,000+</td>\n",
              "      <td>Free</td>\n",
              "      <td>0</td>\n",
              "      <td>Everyone</td>\n",
              "      <td>Art &amp; Design</td>\n",
              "      <td>August 1, 2018</td>\n",
              "      <td>1.2.4</td>\n",
              "      <td>4.0.3 and up</td>\n",
              "    </tr>\n",
              "    <tr>\n",
              "      <th>3</th>\n",
              "      <td>Sketch - Draw &amp; Paint</td>\n",
              "      <td>ART_AND_DESIGN</td>\n",
              "      <td>4.5</td>\n",
              "      <td>215644</td>\n",
              "      <td>25M</td>\n",
              "      <td>50,000,000+</td>\n",
              "      <td>Free</td>\n",
              "      <td>0</td>\n",
              "      <td>Teen</td>\n",
              "      <td>Art &amp; Design</td>\n",
              "      <td>June 8, 2018</td>\n",
              "      <td>Varies with device</td>\n",
              "      <td>4.2 and up</td>\n",
              "    </tr>\n",
              "    <tr>\n",
              "      <th>4</th>\n",
              "      <td>Pixel Draw - Number Art Coloring Book</td>\n",
              "      <td>ART_AND_DESIGN</td>\n",
              "      <td>4.3</td>\n",
              "      <td>967</td>\n",
              "      <td>2.8M</td>\n",
              "      <td>100,000+</td>\n",
              "      <td>Free</td>\n",
              "      <td>0</td>\n",
              "      <td>Everyone</td>\n",
              "      <td>Art &amp; Design;Creativity</td>\n",
              "      <td>June 20, 2018</td>\n",
              "      <td>1.1</td>\n",
              "      <td>4.4 and up</td>\n",
              "    </tr>\n",
              "    <tr>\n",
              "      <th>5</th>\n",
              "      <td>Paper flowers instructions</td>\n",
              "      <td>ART_AND_DESIGN</td>\n",
              "      <td>4.4</td>\n",
              "      <td>167</td>\n",
              "      <td>5.6M</td>\n",
              "      <td>50,000+</td>\n",
              "      <td>Free</td>\n",
              "      <td>0</td>\n",
              "      <td>Everyone</td>\n",
              "      <td>Art &amp; Design</td>\n",
              "      <td>March 26, 2017</td>\n",
              "      <td>1.0</td>\n",
              "      <td>2.3 and up</td>\n",
              "    </tr>\n",
              "    <tr>\n",
              "      <th>6</th>\n",
              "      <td>Smoke Effect Photo Maker - Smoke Editor</td>\n",
              "      <td>ART_AND_DESIGN</td>\n",
              "      <td>3.8</td>\n",
              "      <td>178</td>\n",
              "      <td>19M</td>\n",
              "      <td>50,000+</td>\n",
              "      <td>Free</td>\n",
              "      <td>0</td>\n",
              "      <td>Everyone</td>\n",
              "      <td>Art &amp; Design</td>\n",
              "      <td>April 26, 2018</td>\n",
              "      <td>1.1</td>\n",
              "      <td>4.0.3 and up</td>\n",
              "    </tr>\n",
              "    <tr>\n",
              "      <th>7</th>\n",
              "      <td>Infinite Painter</td>\n",
              "      <td>ART_AND_DESIGN</td>\n",
              "      <td>4.1</td>\n",
              "      <td>36815</td>\n",
              "      <td>29M</td>\n",
              "      <td>1,000,000+</td>\n",
              "      <td>Free</td>\n",
              "      <td>0</td>\n",
              "      <td>Everyone</td>\n",
              "      <td>Art &amp; Design</td>\n",
              "      <td>June 14, 2018</td>\n",
              "      <td>6.1.61.1</td>\n",
              "      <td>4.2 and up</td>\n",
              "    </tr>\n",
              "    <tr>\n",
              "      <th>8</th>\n",
              "      <td>Garden Coloring Book</td>\n",
              "      <td>ART_AND_DESIGN</td>\n",
              "      <td>4.4</td>\n",
              "      <td>13791</td>\n",
              "      <td>33M</td>\n",
              "      <td>1,000,000+</td>\n",
              "      <td>Free</td>\n",
              "      <td>0</td>\n",
              "      <td>Everyone</td>\n",
              "      <td>Art &amp; Design</td>\n",
              "      <td>September 20, 2017</td>\n",
              "      <td>2.9.2</td>\n",
              "      <td>3.0 and up</td>\n",
              "    </tr>\n",
              "    <tr>\n",
              "      <th>9</th>\n",
              "      <td>Kids Paint Free - Drawing Fun</td>\n",
              "      <td>ART_AND_DESIGN</td>\n",
              "      <td>4.7</td>\n",
              "      <td>121</td>\n",
              "      <td>3.1M</td>\n",
              "      <td>10,000+</td>\n",
              "      <td>Free</td>\n",
              "      <td>0</td>\n",
              "      <td>Everyone</td>\n",
              "      <td>Art &amp; Design;Creativity</td>\n",
              "      <td>July 3, 2018</td>\n",
              "      <td>2.8</td>\n",
              "      <td>4.0.3 and up</td>\n",
              "    </tr>\n",
              "  </tbody>\n",
              "</table>\n",
              "</div>"
            ],
            "text/plain": [
              "                                                 App  ...   Android Ver\n",
              "0     Photo Editor & Candy Camera & Grid & ScrapBook  ...  4.0.3 and up\n",
              "1                                Coloring book moana  ...  4.0.3 and up\n",
              "2  U Launcher Lite – FREE Live Cool Themes, Hide ...  ...  4.0.3 and up\n",
              "3                              Sketch - Draw & Paint  ...    4.2 and up\n",
              "4              Pixel Draw - Number Art Coloring Book  ...    4.4 and up\n",
              "5                         Paper flowers instructions  ...    2.3 and up\n",
              "6            Smoke Effect Photo Maker - Smoke Editor  ...  4.0.3 and up\n",
              "7                                   Infinite Painter  ...    4.2 and up\n",
              "8                               Garden Coloring Book  ...    3.0 and up\n",
              "9                      Kids Paint Free - Drawing Fun  ...  4.0.3 and up\n",
              "\n",
              "[10 rows x 13 columns]"
            ]
          },
          "metadata": {},
          "execution_count": 185
        }
      ]
    },
    {
      "cell_type": "code",
      "metadata": {
        "colab": {
          "base_uri": "https://localhost:8080/",
          "height": 491
        },
        "id": "NrQqD-dUXrhu",
        "outputId": "98b35ebb-a143-4c86-90c1-00851f9cb608"
      },
      "source": [
        "play_s_d.tail(10)"
      ],
      "execution_count": null,
      "outputs": [
        {
          "output_type": "execute_result",
          "data": {
            "text/html": [
              "<div>\n",
              "<style scoped>\n",
              "    .dataframe tbody tr th:only-of-type {\n",
              "        vertical-align: middle;\n",
              "    }\n",
              "\n",
              "    .dataframe tbody tr th {\n",
              "        vertical-align: top;\n",
              "    }\n",
              "\n",
              "    .dataframe thead th {\n",
              "        text-align: right;\n",
              "    }\n",
              "</style>\n",
              "<table border=\"1\" class=\"dataframe\">\n",
              "  <thead>\n",
              "    <tr style=\"text-align: right;\">\n",
              "      <th></th>\n",
              "      <th>App</th>\n",
              "      <th>Category</th>\n",
              "      <th>Rating</th>\n",
              "      <th>Reviews</th>\n",
              "      <th>Size</th>\n",
              "      <th>Installs</th>\n",
              "      <th>Type</th>\n",
              "      <th>Price</th>\n",
              "      <th>Content Rating</th>\n",
              "      <th>Genres</th>\n",
              "      <th>Last Updated</th>\n",
              "      <th>Current Ver</th>\n",
              "      <th>Android Ver</th>\n",
              "    </tr>\n",
              "  </thead>\n",
              "  <tbody>\n",
              "    <tr>\n",
              "      <th>10831</th>\n",
              "      <td>payermonstationnement.fr</td>\n",
              "      <td>MAPS_AND_NAVIGATION</td>\n",
              "      <td>NaN</td>\n",
              "      <td>38</td>\n",
              "      <td>9.8M</td>\n",
              "      <td>5,000+</td>\n",
              "      <td>Free</td>\n",
              "      <td>0</td>\n",
              "      <td>Everyone</td>\n",
              "      <td>Maps &amp; Navigation</td>\n",
              "      <td>June 13, 2018</td>\n",
              "      <td>2.0.148.0</td>\n",
              "      <td>4.0 and up</td>\n",
              "    </tr>\n",
              "    <tr>\n",
              "      <th>10832</th>\n",
              "      <td>FR Tides</td>\n",
              "      <td>WEATHER</td>\n",
              "      <td>3.8</td>\n",
              "      <td>1195</td>\n",
              "      <td>582k</td>\n",
              "      <td>100,000+</td>\n",
              "      <td>Free</td>\n",
              "      <td>0</td>\n",
              "      <td>Everyone</td>\n",
              "      <td>Weather</td>\n",
              "      <td>February 16, 2014</td>\n",
              "      <td>6.0</td>\n",
              "      <td>2.1 and up</td>\n",
              "    </tr>\n",
              "    <tr>\n",
              "      <th>10833</th>\n",
              "      <td>Chemin (fr)</td>\n",
              "      <td>BOOKS_AND_REFERENCE</td>\n",
              "      <td>4.8</td>\n",
              "      <td>44</td>\n",
              "      <td>619k</td>\n",
              "      <td>1,000+</td>\n",
              "      <td>Free</td>\n",
              "      <td>0</td>\n",
              "      <td>Everyone</td>\n",
              "      <td>Books &amp; Reference</td>\n",
              "      <td>March 23, 2014</td>\n",
              "      <td>0.8</td>\n",
              "      <td>2.2 and up</td>\n",
              "    </tr>\n",
              "    <tr>\n",
              "      <th>10834</th>\n",
              "      <td>FR Calculator</td>\n",
              "      <td>FAMILY</td>\n",
              "      <td>4.0</td>\n",
              "      <td>7</td>\n",
              "      <td>2.6M</td>\n",
              "      <td>500+</td>\n",
              "      <td>Free</td>\n",
              "      <td>0</td>\n",
              "      <td>Everyone</td>\n",
              "      <td>Education</td>\n",
              "      <td>June 18, 2017</td>\n",
              "      <td>1.0.0</td>\n",
              "      <td>4.1 and up</td>\n",
              "    </tr>\n",
              "    <tr>\n",
              "      <th>10835</th>\n",
              "      <td>FR Forms</td>\n",
              "      <td>BUSINESS</td>\n",
              "      <td>NaN</td>\n",
              "      <td>0</td>\n",
              "      <td>9.6M</td>\n",
              "      <td>10+</td>\n",
              "      <td>Free</td>\n",
              "      <td>0</td>\n",
              "      <td>Everyone</td>\n",
              "      <td>Business</td>\n",
              "      <td>September 29, 2016</td>\n",
              "      <td>1.1.5</td>\n",
              "      <td>4.0 and up</td>\n",
              "    </tr>\n",
              "    <tr>\n",
              "      <th>10836</th>\n",
              "      <td>Sya9a Maroc - FR</td>\n",
              "      <td>FAMILY</td>\n",
              "      <td>4.5</td>\n",
              "      <td>38</td>\n",
              "      <td>53M</td>\n",
              "      <td>5,000+</td>\n",
              "      <td>Free</td>\n",
              "      <td>0</td>\n",
              "      <td>Everyone</td>\n",
              "      <td>Education</td>\n",
              "      <td>July 25, 2017</td>\n",
              "      <td>1.48</td>\n",
              "      <td>4.1 and up</td>\n",
              "    </tr>\n",
              "    <tr>\n",
              "      <th>10837</th>\n",
              "      <td>Fr. Mike Schmitz Audio Teachings</td>\n",
              "      <td>FAMILY</td>\n",
              "      <td>5.0</td>\n",
              "      <td>4</td>\n",
              "      <td>3.6M</td>\n",
              "      <td>100+</td>\n",
              "      <td>Free</td>\n",
              "      <td>0</td>\n",
              "      <td>Everyone</td>\n",
              "      <td>Education</td>\n",
              "      <td>July 6, 2018</td>\n",
              "      <td>1.0</td>\n",
              "      <td>4.1 and up</td>\n",
              "    </tr>\n",
              "    <tr>\n",
              "      <th>10838</th>\n",
              "      <td>Parkinson Exercices FR</td>\n",
              "      <td>MEDICAL</td>\n",
              "      <td>NaN</td>\n",
              "      <td>3</td>\n",
              "      <td>9.5M</td>\n",
              "      <td>1,000+</td>\n",
              "      <td>Free</td>\n",
              "      <td>0</td>\n",
              "      <td>Everyone</td>\n",
              "      <td>Medical</td>\n",
              "      <td>January 20, 2017</td>\n",
              "      <td>1.0</td>\n",
              "      <td>2.2 and up</td>\n",
              "    </tr>\n",
              "    <tr>\n",
              "      <th>10839</th>\n",
              "      <td>The SCP Foundation DB fr nn5n</td>\n",
              "      <td>BOOKS_AND_REFERENCE</td>\n",
              "      <td>4.5</td>\n",
              "      <td>114</td>\n",
              "      <td>Varies with device</td>\n",
              "      <td>1,000+</td>\n",
              "      <td>Free</td>\n",
              "      <td>0</td>\n",
              "      <td>Mature 17+</td>\n",
              "      <td>Books &amp; Reference</td>\n",
              "      <td>January 19, 2015</td>\n",
              "      <td>Varies with device</td>\n",
              "      <td>Varies with device</td>\n",
              "    </tr>\n",
              "    <tr>\n",
              "      <th>10840</th>\n",
              "      <td>iHoroscope - 2018 Daily Horoscope &amp; Astrology</td>\n",
              "      <td>LIFESTYLE</td>\n",
              "      <td>4.5</td>\n",
              "      <td>398307</td>\n",
              "      <td>19M</td>\n",
              "      <td>10,000,000+</td>\n",
              "      <td>Free</td>\n",
              "      <td>0</td>\n",
              "      <td>Everyone</td>\n",
              "      <td>Lifestyle</td>\n",
              "      <td>July 25, 2018</td>\n",
              "      <td>Varies with device</td>\n",
              "      <td>Varies with device</td>\n",
              "    </tr>\n",
              "  </tbody>\n",
              "</table>\n",
              "</div>"
            ],
            "text/plain": [
              "                                                 App  ...         Android Ver\n",
              "10831                       payermonstationnement.fr  ...          4.0 and up\n",
              "10832                                       FR Tides  ...          2.1 and up\n",
              "10833                                    Chemin (fr)  ...          2.2 and up\n",
              "10834                                  FR Calculator  ...          4.1 and up\n",
              "10835                                       FR Forms  ...          4.0 and up\n",
              "10836                               Sya9a Maroc - FR  ...          4.1 and up\n",
              "10837               Fr. Mike Schmitz Audio Teachings  ...          4.1 and up\n",
              "10838                         Parkinson Exercices FR  ...          2.2 and up\n",
              "10839                  The SCP Foundation DB fr nn5n  ...  Varies with device\n",
              "10840  iHoroscope - 2018 Daily Horoscope & Astrology  ...  Varies with device\n",
              "\n",
              "[10 rows x 13 columns]"
            ]
          },
          "metadata": {},
          "execution_count": 186
        }
      ]
    },
    {
      "cell_type": "code",
      "metadata": {
        "colab": {
          "base_uri": "https://localhost:8080/"
        },
        "id": "9C0u9Ph8X-53",
        "outputId": "2bb1da6f-d048-4cb7-bcde-0823310d6260"
      },
      "source": [
        "play_s_d.shape"
      ],
      "execution_count": null,
      "outputs": [
        {
          "output_type": "execute_result",
          "data": {
            "text/plain": [
              "(10841, 13)"
            ]
          },
          "metadata": {},
          "execution_count": 187
        }
      ]
    },
    {
      "cell_type": "markdown",
      "metadata": {
        "id": "0YzNbzTUX8Pk"
      },
      "source": [
        "# Above dataframe having more than 10000 rows and 13 columns.\n",
        "\n",
        "##Play store dataframe of app which consist of name of application ,category of app , rating  given by users , number of users review, size of app in(Mb/Kb) , number of installs of each app , type of app(free/paid), price of app, rating of content , genres of app , last updated, current version of application and requried android version"
      ]
    },
    {
      "cell_type": "code",
      "metadata": {
        "colab": {
          "base_uri": "https://localhost:8080/"
        },
        "id": "3yju0DGQYHf5",
        "outputId": "d0a3dc10-f3b0-4e15-b36b-9fcd6a9cf62d"
      },
      "source": [
        "play_s_d.info()"
      ],
      "execution_count": null,
      "outputs": [
        {
          "output_type": "stream",
          "name": "stdout",
          "text": [
            "<class 'pandas.core.frame.DataFrame'>\n",
            "RangeIndex: 10841 entries, 0 to 10840\n",
            "Data columns (total 13 columns):\n",
            " #   Column          Non-Null Count  Dtype  \n",
            "---  ------          --------------  -----  \n",
            " 0   App             10841 non-null  object \n",
            " 1   Category        10841 non-null  object \n",
            " 2   Rating          9367 non-null   float64\n",
            " 3   Reviews         10841 non-null  object \n",
            " 4   Size            10841 non-null  object \n",
            " 5   Installs        10841 non-null  object \n",
            " 6   Type            10840 non-null  object \n",
            " 7   Price           10841 non-null  object \n",
            " 8   Content Rating  10840 non-null  object \n",
            " 9   Genres          10841 non-null  object \n",
            " 10  Last Updated    10841 non-null  object \n",
            " 11  Current Ver     10833 non-null  object \n",
            " 12  Android Ver     10838 non-null  object \n",
            "dtypes: float64(1), object(12)\n",
            "memory usage: 1.1+ MB\n"
          ]
        }
      ]
    },
    {
      "cell_type": "code",
      "metadata": {
        "colab": {
          "base_uri": "https://localhost:8080/",
          "height": 357
        },
        "id": "PFJtzDdZYPB_",
        "outputId": "401112aa-00ab-4b3e-b830-5c1a5b60cc51"
      },
      "source": [
        "user_review.head(10)"
      ],
      "execution_count": null,
      "outputs": [
        {
          "output_type": "execute_result",
          "data": {
            "text/html": [
              "<div>\n",
              "<style scoped>\n",
              "    .dataframe tbody tr th:only-of-type {\n",
              "        vertical-align: middle;\n",
              "    }\n",
              "\n",
              "    .dataframe tbody tr th {\n",
              "        vertical-align: top;\n",
              "    }\n",
              "\n",
              "    .dataframe thead th {\n",
              "        text-align: right;\n",
              "    }\n",
              "</style>\n",
              "<table border=\"1\" class=\"dataframe\">\n",
              "  <thead>\n",
              "    <tr style=\"text-align: right;\">\n",
              "      <th></th>\n",
              "      <th>App</th>\n",
              "      <th>Translated_Review</th>\n",
              "      <th>Sentiment</th>\n",
              "      <th>Sentiment_Polarity</th>\n",
              "      <th>Sentiment_Subjectivity</th>\n",
              "    </tr>\n",
              "  </thead>\n",
              "  <tbody>\n",
              "    <tr>\n",
              "      <th>0</th>\n",
              "      <td>10 Best Foods for You</td>\n",
              "      <td>I like eat delicious food. That's I'm cooking ...</td>\n",
              "      <td>Positive</td>\n",
              "      <td>1.00</td>\n",
              "      <td>0.533333</td>\n",
              "    </tr>\n",
              "    <tr>\n",
              "      <th>1</th>\n",
              "      <td>10 Best Foods for You</td>\n",
              "      <td>This help eating healthy exercise regular basis</td>\n",
              "      <td>Positive</td>\n",
              "      <td>0.25</td>\n",
              "      <td>0.288462</td>\n",
              "    </tr>\n",
              "    <tr>\n",
              "      <th>2</th>\n",
              "      <td>10 Best Foods for You</td>\n",
              "      <td>NaN</td>\n",
              "      <td>NaN</td>\n",
              "      <td>NaN</td>\n",
              "      <td>NaN</td>\n",
              "    </tr>\n",
              "    <tr>\n",
              "      <th>3</th>\n",
              "      <td>10 Best Foods for You</td>\n",
              "      <td>Works great especially going grocery store</td>\n",
              "      <td>Positive</td>\n",
              "      <td>0.40</td>\n",
              "      <td>0.875000</td>\n",
              "    </tr>\n",
              "    <tr>\n",
              "      <th>4</th>\n",
              "      <td>10 Best Foods for You</td>\n",
              "      <td>Best idea us</td>\n",
              "      <td>Positive</td>\n",
              "      <td>1.00</td>\n",
              "      <td>0.300000</td>\n",
              "    </tr>\n",
              "    <tr>\n",
              "      <th>5</th>\n",
              "      <td>10 Best Foods for You</td>\n",
              "      <td>Best way</td>\n",
              "      <td>Positive</td>\n",
              "      <td>1.00</td>\n",
              "      <td>0.300000</td>\n",
              "    </tr>\n",
              "    <tr>\n",
              "      <th>6</th>\n",
              "      <td>10 Best Foods for You</td>\n",
              "      <td>Amazing</td>\n",
              "      <td>Positive</td>\n",
              "      <td>0.60</td>\n",
              "      <td>0.900000</td>\n",
              "    </tr>\n",
              "    <tr>\n",
              "      <th>7</th>\n",
              "      <td>10 Best Foods for You</td>\n",
              "      <td>NaN</td>\n",
              "      <td>NaN</td>\n",
              "      <td>NaN</td>\n",
              "      <td>NaN</td>\n",
              "    </tr>\n",
              "    <tr>\n",
              "      <th>8</th>\n",
              "      <td>10 Best Foods for You</td>\n",
              "      <td>Looking forward app,</td>\n",
              "      <td>Neutral</td>\n",
              "      <td>0.00</td>\n",
              "      <td>0.000000</td>\n",
              "    </tr>\n",
              "    <tr>\n",
              "      <th>9</th>\n",
              "      <td>10 Best Foods for You</td>\n",
              "      <td>It helpful site ! It help foods get !</td>\n",
              "      <td>Neutral</td>\n",
              "      <td>0.00</td>\n",
              "      <td>0.000000</td>\n",
              "    </tr>\n",
              "  </tbody>\n",
              "</table>\n",
              "</div>"
            ],
            "text/plain": [
              "                     App  ... Sentiment_Subjectivity\n",
              "0  10 Best Foods for You  ...               0.533333\n",
              "1  10 Best Foods for You  ...               0.288462\n",
              "2  10 Best Foods for You  ...                    NaN\n",
              "3  10 Best Foods for You  ...               0.875000\n",
              "4  10 Best Foods for You  ...               0.300000\n",
              "5  10 Best Foods for You  ...               0.300000\n",
              "6  10 Best Foods for You  ...               0.900000\n",
              "7  10 Best Foods for You  ...                    NaN\n",
              "8  10 Best Foods for You  ...               0.000000\n",
              "9  10 Best Foods for You  ...               0.000000\n",
              "\n",
              "[10 rows x 5 columns]"
            ]
          },
          "metadata": {},
          "execution_count": 189
        }
      ]
    },
    {
      "cell_type": "code",
      "metadata": {
        "colab": {
          "base_uri": "https://localhost:8080/",
          "height": 357
        },
        "id": "xkbCHNFAYOry",
        "outputId": "7e928698-9f22-46d9-ec96-9c8d09d16fce"
      },
      "source": [
        "user_review.tail(10)"
      ],
      "execution_count": null,
      "outputs": [
        {
          "output_type": "execute_result",
          "data": {
            "text/html": [
              "<div>\n",
              "<style scoped>\n",
              "    .dataframe tbody tr th:only-of-type {\n",
              "        vertical-align: middle;\n",
              "    }\n",
              "\n",
              "    .dataframe tbody tr th {\n",
              "        vertical-align: top;\n",
              "    }\n",
              "\n",
              "    .dataframe thead th {\n",
              "        text-align: right;\n",
              "    }\n",
              "</style>\n",
              "<table border=\"1\" class=\"dataframe\">\n",
              "  <thead>\n",
              "    <tr style=\"text-align: right;\">\n",
              "      <th></th>\n",
              "      <th>App</th>\n",
              "      <th>Translated_Review</th>\n",
              "      <th>Sentiment</th>\n",
              "      <th>Sentiment_Polarity</th>\n",
              "      <th>Sentiment_Subjectivity</th>\n",
              "    </tr>\n",
              "  </thead>\n",
              "  <tbody>\n",
              "    <tr>\n",
              "      <th>64285</th>\n",
              "      <td>Houzz Interior Design Ideas</td>\n",
              "      <td>NaN</td>\n",
              "      <td>NaN</td>\n",
              "      <td>NaN</td>\n",
              "      <td>NaN</td>\n",
              "    </tr>\n",
              "    <tr>\n",
              "      <th>64286</th>\n",
              "      <td>Houzz Interior Design Ideas</td>\n",
              "      <td>NaN</td>\n",
              "      <td>NaN</td>\n",
              "      <td>NaN</td>\n",
              "      <td>NaN</td>\n",
              "    </tr>\n",
              "    <tr>\n",
              "      <th>64287</th>\n",
              "      <td>Houzz Interior Design Ideas</td>\n",
              "      <td>NaN</td>\n",
              "      <td>NaN</td>\n",
              "      <td>NaN</td>\n",
              "      <td>NaN</td>\n",
              "    </tr>\n",
              "    <tr>\n",
              "      <th>64288</th>\n",
              "      <td>Houzz Interior Design Ideas</td>\n",
              "      <td>NaN</td>\n",
              "      <td>NaN</td>\n",
              "      <td>NaN</td>\n",
              "      <td>NaN</td>\n",
              "    </tr>\n",
              "    <tr>\n",
              "      <th>64289</th>\n",
              "      <td>Houzz Interior Design Ideas</td>\n",
              "      <td>NaN</td>\n",
              "      <td>NaN</td>\n",
              "      <td>NaN</td>\n",
              "      <td>NaN</td>\n",
              "    </tr>\n",
              "    <tr>\n",
              "      <th>64290</th>\n",
              "      <td>Houzz Interior Design Ideas</td>\n",
              "      <td>NaN</td>\n",
              "      <td>NaN</td>\n",
              "      <td>NaN</td>\n",
              "      <td>NaN</td>\n",
              "    </tr>\n",
              "    <tr>\n",
              "      <th>64291</th>\n",
              "      <td>Houzz Interior Design Ideas</td>\n",
              "      <td>NaN</td>\n",
              "      <td>NaN</td>\n",
              "      <td>NaN</td>\n",
              "      <td>NaN</td>\n",
              "    </tr>\n",
              "    <tr>\n",
              "      <th>64292</th>\n",
              "      <td>Houzz Interior Design Ideas</td>\n",
              "      <td>NaN</td>\n",
              "      <td>NaN</td>\n",
              "      <td>NaN</td>\n",
              "      <td>NaN</td>\n",
              "    </tr>\n",
              "    <tr>\n",
              "      <th>64293</th>\n",
              "      <td>Houzz Interior Design Ideas</td>\n",
              "      <td>NaN</td>\n",
              "      <td>NaN</td>\n",
              "      <td>NaN</td>\n",
              "      <td>NaN</td>\n",
              "    </tr>\n",
              "    <tr>\n",
              "      <th>64294</th>\n",
              "      <td>Houzz Interior Design Ideas</td>\n",
              "      <td>NaN</td>\n",
              "      <td>NaN</td>\n",
              "      <td>NaN</td>\n",
              "      <td>NaN</td>\n",
              "    </tr>\n",
              "  </tbody>\n",
              "</table>\n",
              "</div>"
            ],
            "text/plain": [
              "                               App  ... Sentiment_Subjectivity\n",
              "64285  Houzz Interior Design Ideas  ...                    NaN\n",
              "64286  Houzz Interior Design Ideas  ...                    NaN\n",
              "64287  Houzz Interior Design Ideas  ...                    NaN\n",
              "64288  Houzz Interior Design Ideas  ...                    NaN\n",
              "64289  Houzz Interior Design Ideas  ...                    NaN\n",
              "64290  Houzz Interior Design Ideas  ...                    NaN\n",
              "64291  Houzz Interior Design Ideas  ...                    NaN\n",
              "64292  Houzz Interior Design Ideas  ...                    NaN\n",
              "64293  Houzz Interior Design Ideas  ...                    NaN\n",
              "64294  Houzz Interior Design Ideas  ...                    NaN\n",
              "\n",
              "[10 rows x 5 columns]"
            ]
          },
          "metadata": {},
          "execution_count": 190
        }
      ]
    },
    {
      "cell_type": "code",
      "metadata": {
        "colab": {
          "base_uri": "https://localhost:8080/"
        },
        "id": "P00Djt5CYOiY",
        "outputId": "63df1e0c-280f-4fe7-b5fd-71f250bbc619"
      },
      "source": [
        "user_review.shape"
      ],
      "execution_count": null,
      "outputs": [
        {
          "output_type": "execute_result",
          "data": {
            "text/plain": [
              "(64295, 5)"
            ]
          },
          "metadata": {},
          "execution_count": 191
        }
      ]
    },
    {
      "cell_type": "code",
      "metadata": {
        "colab": {
          "base_uri": "https://localhost:8080/"
        },
        "id": "1kFdLRwkYrdU",
        "outputId": "6adfa858-b66d-42a6-be35-b76de2a579bc"
      },
      "source": [
        "user_review.info()"
      ],
      "execution_count": null,
      "outputs": [
        {
          "output_type": "stream",
          "name": "stdout",
          "text": [
            "<class 'pandas.core.frame.DataFrame'>\n",
            "RangeIndex: 64295 entries, 0 to 64294\n",
            "Data columns (total 5 columns):\n",
            " #   Column                  Non-Null Count  Dtype  \n",
            "---  ------                  --------------  -----  \n",
            " 0   App                     64295 non-null  object \n",
            " 1   Translated_Review       37427 non-null  object \n",
            " 2   Sentiment               37432 non-null  object \n",
            " 3   Sentiment_Polarity      37432 non-null  float64\n",
            " 4   Sentiment_Subjectivity  37432 non-null  float64\n",
            "dtypes: float64(2), object(3)\n",
            "memory usage: 2.5+ MB\n"
          ]
        }
      ]
    },
    {
      "cell_type": "markdown",
      "metadata": {
        "id": "DFGf9wX-YdRz"
      },
      "source": [
        "# Above User_review dataframe is having more than 6000 rows and 5 columns:\n",
        "## name of app , translated_review given by users, sentiment , sentiment polarity , sentiment subjective"
      ]
    },
    {
      "cell_type": "markdown",
      "metadata": {
        "id": "-PrTXimFYlHc"
      },
      "source": [
        "## lets see first play store dataset\n"
      ]
    },
    {
      "cell_type": "code",
      "metadata": {
        "id": "y92Y_045Yw8E"
      },
      "source": [
        "# Replacing space in columns with _\n",
        "\n",
        "play_s_d.columns=[each.replace(\" \",\"_\") for each in play_s_d.columns]"
      ],
      "execution_count": null,
      "outputs": []
    },
    {
      "cell_type": "code",
      "metadata": {
        "colab": {
          "base_uri": "https://localhost:8080/"
        },
        "id": "_e6oYuclZE1P",
        "outputId": "ac227a42-4a68-4520-d18a-4b03add7dd7c"
      },
      "source": [
        "play_s_d.info()"
      ],
      "execution_count": null,
      "outputs": [
        {
          "output_type": "stream",
          "name": "stdout",
          "text": [
            "<class 'pandas.core.frame.DataFrame'>\n",
            "RangeIndex: 10841 entries, 0 to 10840\n",
            "Data columns (total 13 columns):\n",
            " #   Column          Non-Null Count  Dtype  \n",
            "---  ------          --------------  -----  \n",
            " 0   App             10841 non-null  object \n",
            " 1   Category        10841 non-null  object \n",
            " 2   Rating          9367 non-null   float64\n",
            " 3   Reviews         10841 non-null  object \n",
            " 4   Size            10841 non-null  object \n",
            " 5   Installs        10841 non-null  object \n",
            " 6   Type            10840 non-null  object \n",
            " 7   Price           10841 non-null  object \n",
            " 8   Content_Rating  10840 non-null  object \n",
            " 9   Genres          10841 non-null  object \n",
            " 10  Last_Updated    10841 non-null  object \n",
            " 11  Current_Ver     10833 non-null  object \n",
            " 12  Android_Ver     10838 non-null  object \n",
            "dtypes: float64(1), object(12)\n",
            "memory usage: 1.1+ MB\n"
          ]
        }
      ]
    },
    {
      "cell_type": "markdown",
      "metadata": {
        "id": "rK6t6lwGZQ73"
      },
      "source": [
        "## as we can see the play store dataset is having Review, Size of app, number of installs, and price is object data type and we can also see there is null value in some columns \n",
        "## now first i will convert Review, Size, Installs and price into numeric data type"
      ]
    },
    {
      "cell_type": "code",
      "metadata": {
        "id": "c9siJBzXZUif"
      },
      "source": [
        "#Change reviews column datatype to int\n",
        "play_s_d.Reviews = play_s_d.Reviews.apply(lambda x: (float(str(x).replace('M', '')))*1000000 if 'M' in str(x) else x) # i am taking M is as million so i have multiplied it to 1000000\n",
        "play_s_d.Reviews = play_s_d.Reviews.apply(lambda x:int(x))"
      ],
      "execution_count": null,
      "outputs": []
    },
    {
      "cell_type": "code",
      "metadata": {
        "colab": {
          "base_uri": "https://localhost:8080/"
        },
        "id": "TMyKRkhQZh3m",
        "outputId": "1f9a7f41-56f7-4e29-8b22-e247469bf001"
      },
      "source": [
        "play_s_d['Reviews'].mean()"
      ],
      "execution_count": null,
      "outputs": [
        {
          "output_type": "execute_result",
          "data": {
            "text/plain": [
              "444388.6535374965"
            ]
          },
          "metadata": {},
          "execution_count": 196
        }
      ]
    },
    {
      "cell_type": "code",
      "metadata": {
        "id": "SwWHSFUlZj_B"
      },
      "source": [
        "#converting column \"Size\"  Mb Kb and  (+) and (,) to float using lamda function\n",
        "play_s_d['Size'] = play_s_d['Size'].apply(lambda x: str(x).replace('Varies with device', 'NaN') if 'Varies with device' in str(x) else x)\n",
        "play_s_d['Size'] = play_s_d['Size'].apply(lambda x: str(x).replace('M', '') if 'M' in str(x) else x)\n",
        "play_s_d['Size'] = play_s_d['Size'].apply(lambda x: str(x).replace(',', '') if ',' in str(x) else x)\n",
        "play_s_d['Size'] = play_s_d['Size'].apply(lambda x: float(str(x).replace('k', '')) / 1000 if 'k' in str(x) else x) # 1 MB is equal to 1000 KB\n",
        "play_s_d['Size'] = play_s_d['Size'].apply(lambda x: str(x).replace('+','') if '+' in str(x) else x)\n"
      ],
      "execution_count": null,
      "outputs": []
    },
    {
      "cell_type": "code",
      "metadata": {
        "id": "nEuFnPI9Zjtm"
      },
      "source": [
        "play_s_d['Size'] = play_s_d['Size'].apply(lambda x: float(x))"
      ],
      "execution_count": null,
      "outputs": []
    },
    {
      "cell_type": "code",
      "metadata": {
        "colab": {
          "base_uri": "https://localhost:8080/"
        },
        "id": "CQdzcx6aZjje",
        "outputId": "847d2f12-fde5-4ace-8671-2dcf6a128ff8"
      },
      "source": [
        "play_s_d['Size'].min()"
      ],
      "execution_count": null,
      "outputs": [
        {
          "output_type": "execute_result",
          "data": {
            "text/plain": [
              "0.0085"
            ]
          },
          "metadata": {},
          "execution_count": 199
        }
      ]
    },
    {
      "cell_type": "markdown",
      "metadata": {
        "id": "DUr2WP_aZxfE"
      },
      "source": [
        "## minimum Size is not zero so i can move forward"
      ]
    },
    {
      "cell_type": "code",
      "metadata": {
        "colab": {
          "base_uri": "https://localhost:8080/"
        },
        "id": "ipQ2e6-ZZyea",
        "outputId": "87fea379-915a-418c-a629-479c81db71d6"
      },
      "source": [
        "play_s_d['Size'].max()"
      ],
      "execution_count": null,
      "outputs": [
        {
          "output_type": "execute_result",
          "data": {
            "text/plain": [
              "1000.0"
            ]
          },
          "metadata": {},
          "execution_count": 200
        }
      ]
    },
    {
      "cell_type": "code",
      "metadata": {
        "colab": {
          "base_uri": "https://localhost:8080/"
        },
        "id": "Giy73SObZ-3l",
        "outputId": "9cdaf4bb-eb0d-43e0-adc5-ecf8d4b4177d"
      },
      "source": [
        "play_s_d['Size'].mean()"
      ],
      "execution_count": null,
      "outputs": [
        {
          "output_type": "execute_result",
          "data": {
            "text/plain": [
              "21.62351437787002"
            ]
          },
          "metadata": {},
          "execution_count": 201
        }
      ]
    },
    {
      "cell_type": "markdown",
      "metadata": {
        "id": "_xcmGkQvaYEN"
      },
      "source": [
        "## so now i have successfully converted two columns.\n",
        "## Reviews and Size are now numeric data type"
      ]
    },
    {
      "cell_type": "code",
      "metadata": {
        "colab": {
          "base_uri": "https://localhost:8080/"
        },
        "id": "GZWwkDCzcfh_",
        "outputId": "698f52f9-7baf-411f-fd7e-0fd43cd24ec3"
      },
      "source": [
        "play_s_d['Installs'].unique()"
      ],
      "execution_count": null,
      "outputs": [
        {
          "output_type": "execute_result",
          "data": {
            "text/plain": [
              "array(['10,000+', '500,000+', '5,000,000+', '50,000,000+', '100,000+',\n",
              "       '50,000+', '1,000,000+', '10,000,000+', '5,000+', '100,000,000+',\n",
              "       '1,000,000,000+', '1,000+', '500,000,000+', '50+', '100+', '500+',\n",
              "       '10+', '1+', '5+', '0+', '0', 'Free'], dtype=object)"
            ]
          },
          "metadata": {},
          "execution_count": 202
        }
      ]
    },
    {
      "cell_type": "markdown",
      "metadata": {
        "id": "rNExlTHZc_uV"
      },
      "source": [
        "## we can see that there is + and coma(,) symbol and Free srting\n",
        "## so i will remove those symbolys\n",
        "## replace Free with nan"
      ]
    },
    {
      "cell_type": "code",
      "metadata": {
        "id": "uMuo2Jrscxsy"
      },
      "source": [
        "# converting column 'Installs'\n",
        "play_s_d['Installs'] = play_s_d['Installs'].apply(lambda x: str(x).replace('Free', 'NaN') if 'Free' in str(x) else x)\n",
        "play_s_d['Installs'] = play_s_d['Installs'].apply(lambda x: str(x).replace('+', '') if '+' in str(x) else x)\n",
        "play_s_d['Installs'] = play_s_d['Installs'].apply(lambda x: str(x).replace(',', '') if ',' in str(x) else x)\n",
        "play_s_d['Installs']=play_s_d['Installs'].apply(lambda x: float(x))"
      ],
      "execution_count": null,
      "outputs": []
    },
    {
      "cell_type": "code",
      "metadata": {
        "colab": {
          "base_uri": "https://localhost:8080/"
        },
        "id": "EhCKAuxccxfE",
        "outputId": "32902462-f420-45a6-8d71-fb64db0d10b6"
      },
      "source": [
        "play_s_d['Installs'].min(),play_s_d['Installs'].max()"
      ],
      "execution_count": null,
      "outputs": [
        {
          "output_type": "execute_result",
          "data": {
            "text/plain": [
              "(0.0, 1000000000.0)"
            ]
          },
          "metadata": {},
          "execution_count": 204
        }
      ]
    },
    {
      "cell_type": "code",
      "metadata": {
        "colab": {
          "base_uri": "https://localhost:8080/"
        },
        "id": "8Xs8lYZ8dzrI",
        "outputId": "e0f31857-356c-4947-f4d0-f705a00ee276"
      },
      "source": [
        "play_s_d['Installs'].mean()"
      ],
      "execution_count": null,
      "outputs": [
        {
          "output_type": "execute_result",
          "data": {
            "text/plain": [
              "15464338.882564576"
            ]
          },
          "metadata": {},
          "execution_count": 205
        }
      ]
    },
    {
      "cell_type": "code",
      "metadata": {
        "colab": {
          "base_uri": "https://localhost:8080/"
        },
        "id": "dJRHmjzybiFu",
        "outputId": "77143cc5-6df3-4042-9911-fdf039eacb67"
      },
      "source": [
        "play_s_d['Price'].unique()"
      ],
      "execution_count": null,
      "outputs": [
        {
          "output_type": "execute_result",
          "data": {
            "text/plain": [
              "array(['0', '$4.99', '$3.99', '$6.99', '$1.49', '$2.99', '$7.99', '$5.99',\n",
              "       '$3.49', '$1.99', '$9.99', '$7.49', '$0.99', '$9.00', '$5.49',\n",
              "       '$10.00', '$24.99', '$11.99', '$79.99', '$16.99', '$14.99',\n",
              "       '$1.00', '$29.99', '$12.99', '$2.49', '$10.99', '$1.50', '$19.99',\n",
              "       '$15.99', '$33.99', '$74.99', '$39.99', '$3.95', '$4.49', '$1.70',\n",
              "       '$8.99', '$2.00', '$3.88', '$25.99', '$399.99', '$17.99',\n",
              "       '$400.00', '$3.02', '$1.76', '$4.84', '$4.77', '$1.61', '$2.50',\n",
              "       '$1.59', '$6.49', '$1.29', '$5.00', '$13.99', '$299.99', '$379.99',\n",
              "       '$37.99', '$18.99', '$389.99', '$19.90', '$8.49', '$1.75',\n",
              "       '$14.00', '$4.85', '$46.99', '$109.99', '$154.99', '$3.08',\n",
              "       '$2.59', '$4.80', '$1.96', '$19.40', '$3.90', '$4.59', '$15.46',\n",
              "       '$3.04', '$4.29', '$2.60', '$3.28', '$4.60', '$28.99', '$2.95',\n",
              "       '$2.90', '$1.97', '$200.00', '$89.99', '$2.56', '$30.99', '$3.61',\n",
              "       '$394.99', '$1.26', 'Everyone', '$1.20', '$1.04'], dtype=object)"
            ]
          },
          "metadata": {},
          "execution_count": 206
        }
      ]
    },
    {
      "cell_type": "markdown",
      "metadata": {
        "id": "a7_TxvapbjZI"
      },
      "source": [
        "## as we can see there is dollar symbol and having string 'Everyone'\n",
        "## so i will remove dollar symbol and replace Everyone with nan"
      ]
    },
    {
      "cell_type": "code",
      "metadata": {
        "id": "C9-KLhrxbpz4"
      },
      "source": [
        "# converting column \"Price\" \n",
        "play_s_d['Price'] = play_s_d['Price'].apply(lambda x: str(x).replace('Everyone', 'NaN') if 'Everyone' in str(x) else x)\n",
        "\n",
        "play_s_d['Price'] = play_s_d['Price'].apply(lambda x: str(x).replace('$','') if '$' in str(x) else x)\n",
        "play_s_d['Price'] = play_s_d['Price'].apply(lambda x: str(x).replace(' ','') if ' ' in str(x) else x)"
      ],
      "execution_count": null,
      "outputs": []
    },
    {
      "cell_type": "code",
      "metadata": {
        "id": "YCOpU2PabqC5"
      },
      "source": [
        "play_s_d['Price']=play_s_d['Price'].apply(lambda x: float(x))"
      ],
      "execution_count": null,
      "outputs": []
    },
    {
      "cell_type": "code",
      "metadata": {
        "colab": {
          "base_uri": "https://localhost:8080/"
        },
        "id": "a1sV_0jIcE3v",
        "outputId": "3ab0fcb2-19f7-4fa3-c5d2-a03a7f70bfd1"
      },
      "source": [
        "play_s_d['Price'].min()"
      ],
      "execution_count": null,
      "outputs": [
        {
          "output_type": "execute_result",
          "data": {
            "text/plain": [
              "0.0"
            ]
          },
          "metadata": {},
          "execution_count": 209
        }
      ]
    },
    {
      "cell_type": "code",
      "metadata": {
        "colab": {
          "base_uri": "https://localhost:8080/"
        },
        "id": "5RXyyn7TcFn9",
        "outputId": "9de3bef2-a43a-4461-fbdc-dcf4ed8cd2e8"
      },
      "source": [
        "play_s_d['Price'].max()"
      ],
      "execution_count": null,
      "outputs": [
        {
          "output_type": "execute_result",
          "data": {
            "text/plain": [
              "400.0"
            ]
          },
          "metadata": {},
          "execution_count": 210
        }
      ]
    },
    {
      "cell_type": "code",
      "metadata": {
        "colab": {
          "base_uri": "https://localhost:8080/"
        },
        "id": "wEHEQsumcHgZ",
        "outputId": "fe71ad03-e4f3-430d-f6a9-9dd3d5e122a5"
      },
      "source": [
        "play_s_d['Price'].mean()"
      ],
      "execution_count": null,
      "outputs": [
        {
          "output_type": "execute_result",
          "data": {
            "text/plain": [
              "1.027368081180801"
            ]
          },
          "metadata": {},
          "execution_count": 211
        }
      ]
    },
    {
      "cell_type": "code",
      "metadata": {
        "colab": {
          "base_uri": "https://localhost:8080/"
        },
        "id": "sarjpIeyep36",
        "outputId": "187a08f3-1f4f-47d0-f174-7aeb265af6d1"
      },
      "source": [
        "play_s_d.info()"
      ],
      "execution_count": null,
      "outputs": [
        {
          "output_type": "stream",
          "name": "stdout",
          "text": [
            "<class 'pandas.core.frame.DataFrame'>\n",
            "RangeIndex: 10841 entries, 0 to 10840\n",
            "Data columns (total 13 columns):\n",
            " #   Column          Non-Null Count  Dtype  \n",
            "---  ------          --------------  -----  \n",
            " 0   App             10841 non-null  object \n",
            " 1   Category        10841 non-null  object \n",
            " 2   Rating          9367 non-null   float64\n",
            " 3   Reviews         10841 non-null  int64  \n",
            " 4   Size            9146 non-null   float64\n",
            " 5   Installs        10840 non-null  float64\n",
            " 6   Type            10840 non-null  object \n",
            " 7   Price           10840 non-null  float64\n",
            " 8   Content_Rating  10840 non-null  object \n",
            " 9   Genres          10841 non-null  object \n",
            " 10  Last_Updated    10841 non-null  object \n",
            " 11  Current_Ver     10833 non-null  object \n",
            " 12  Android_Ver     10838 non-null  object \n",
            "dtypes: float64(4), int64(1), object(8)\n",
            "memory usage: 1.1+ MB\n"
          ]
        }
      ]
    },
    {
      "cell_type": "markdown",
      "metadata": {
        "id": "lyWFzyBue36H"
      },
      "source": [
        "## Now I have changed the data type of coulmns Reviews,Size,Installs,Price from object to float and integer data type.\n",
        "\n"
      ]
    },
    {
      "cell_type": "code",
      "metadata": {
        "id": "yJOeBBK3fJci"
      },
      "source": [
        ""
      ],
      "execution_count": null,
      "outputs": []
    }
  ]
}
{
  "nbformat": 4,
  "nbformat_minor": 0,
  "metadata": {
    "kernelspec": {
      "display_name": "Python 3",
      "language": "python",
      "name": "python3"
    },
    "language_info": {
      "codemirror_mode": {
        "name": "ipython",
        "version": 3
      },
      "file_extension": ".py",
      "mimetype": "text/x-python",
      "name": "python",
      "nbconvert_exporter": "python",
      "pygments_lexer": "ipython3",
      "version": "3.6.6"
    },
    "colab": {
      "name": "Play Store App Review Analysis - Capstone Project.ipynb",
      "provenance": [],
      "collapsed_sections": [],
      "include_colab_link": true
    }
  },
  "cells": [
    {
      "cell_type": "markdown",
      "metadata": {
        "id": "view-in-github",
        "colab_type": "text"
      },
      "source": [
        "<a href=\"https://colab.research.google.com/github/IfrazQazi/Play-Store-App-Review-Analysis-Capstone-Project/blob/main/Play_Store_App_Review_Analysis_Capstone_Project.ipynb\" target=\"_parent\"><img src=\"https://colab.research.google.com/assets/colab-badge.svg\" alt=\"Open In Colab\"/></a>"
      ]
    },
    {
      "cell_type": "markdown",
      "metadata": {
        "id": "Y06xIdG26kRF"
      },
      "source": [
        "## <b> The Play Store apps data has enormous potential to drive app-making businesses to success. Actionable insights can be drawn for developers to work on and capture the Android market. </b>\n",
        "\n",
        "## <b> Each app (row) has values for catergory, rating, size, and more. Another dataset contains customer reviews of the android apps.</b>\n",
        "\n",
        "## <b> Explore and analyze the data to discover key factors responsible for app engagement and success. </b>"
      ]
    },
    {
      "cell_type": "markdown",
      "metadata": {
        "id": "ZS8IDxM8OeNY"
      },
      "source": [
        "## First importing libraries and mounting google drive.\n",
        "## loading data into data frame"
      ]
    },
    {
      "cell_type": "code",
      "metadata": {
        "id": "dByMsuzT8Tnw"
      },
      "source": [
        "#importing library\n",
        "import numpy as np\n",
        "import pandas as pd\n",
        "import seaborn as sns\n",
        "import matplotlib.pyplot as plt\n",
        "\n",
        "%matplotlib inline"
      ],
      "execution_count": 102,
      "outputs": []
    },
    {
      "cell_type": "code",
      "metadata": {
        "colab": {
          "base_uri": "https://localhost:8080/"
        },
        "id": "rX-RsW-7PKOX",
        "outputId": "e03a8f9d-ce67-4df4-9923-c2dbf3abf370"
      },
      "source": [
        "from google.colab import drive\n",
        "drive.mount('/content/drive')"
      ],
      "execution_count": 103,
      "outputs": [
        {
          "output_type": "stream",
          "name": "stdout",
          "text": [
            "Drive already mounted at /content/drive; to attempt to forcibly remount, call drive.mount(\"/content/drive\", force_remount=True).\n"
          ]
        }
      ]
    },
    {
      "cell_type": "code",
      "metadata": {
        "id": "PwELRx_nPVUI"
      },
      "source": [
        "# loading play store data into data frame\n",
        "dir_path='/content/drive/MyDrive/AlmaBetter/Module 1/Capstone Project Play Store App Review Analysis/'\n",
        "play_s_d=pd.read_csv(dir_path+'Play Store Data.csv')"
      ],
      "execution_count": 104,
      "outputs": []
    },
    {
      "cell_type": "code",
      "metadata": {
        "id": "p1_QPh44PZMa"
      },
      "source": [
        "# loading User Reviews into data frame\n",
        "user_review=pd.read_csv(dir_path+'User Reviews.csv')"
      ],
      "execution_count": 105,
      "outputs": []
    },
    {
      "cell_type": "markdown",
      "metadata": {
        "id": "cIGO4NTWPeAQ"
      },
      "source": [
        "#The objective of this project is to deliver insights to understand customer demands better and help developer to populriaz the application\n",
        "\n",
        "##Discussion of Google play store dataset will involve various steps such as:\n",
        "## 1)loading the data into data frame\n",
        "## 2)cleaning the data\n",
        "## 3)extracting statistics from the dataset\n",
        "## 4)exploratory analysis and visualizations\n",
        "## 5)questions that can be asked from the dataset conclusion\n",
        "#We can move to first step of data analysis by cleaning the data that will make the results more accurate."
      ]
    },
    {
      "cell_type": "code",
      "metadata": {
        "colab": {
          "base_uri": "https://localhost:8080/",
          "height": 458
        },
        "id": "GM7Y3aT3Xru7",
        "outputId": "f0a83bd2-9340-43ec-d123-62f859d5a268"
      },
      "source": [
        "play_s_d.head(10)"
      ],
      "execution_count": 106,
      "outputs": [
        {
          "output_type": "execute_result",
          "data": {
            "text/html": [
              "<div>\n",
              "<style scoped>\n",
              "    .dataframe tbody tr th:only-of-type {\n",
              "        vertical-align: middle;\n",
              "    }\n",
              "\n",
              "    .dataframe tbody tr th {\n",
              "        vertical-align: top;\n",
              "    }\n",
              "\n",
              "    .dataframe thead th {\n",
              "        text-align: right;\n",
              "    }\n",
              "</style>\n",
              "<table border=\"1\" class=\"dataframe\">\n",
              "  <thead>\n",
              "    <tr style=\"text-align: right;\">\n",
              "      <th></th>\n",
              "      <th>App</th>\n",
              "      <th>Category</th>\n",
              "      <th>Rating</th>\n",
              "      <th>Reviews</th>\n",
              "      <th>Size</th>\n",
              "      <th>Installs</th>\n",
              "      <th>Type</th>\n",
              "      <th>Price</th>\n",
              "      <th>Content Rating</th>\n",
              "      <th>Genres</th>\n",
              "      <th>Last Updated</th>\n",
              "      <th>Current Ver</th>\n",
              "      <th>Android Ver</th>\n",
              "    </tr>\n",
              "  </thead>\n",
              "  <tbody>\n",
              "    <tr>\n",
              "      <th>0</th>\n",
              "      <td>Photo Editor &amp; Candy Camera &amp; Grid &amp; ScrapBook</td>\n",
              "      <td>ART_AND_DESIGN</td>\n",
              "      <td>4.1</td>\n",
              "      <td>159</td>\n",
              "      <td>19M</td>\n",
              "      <td>10,000+</td>\n",
              "      <td>Free</td>\n",
              "      <td>0</td>\n",
              "      <td>Everyone</td>\n",
              "      <td>Art &amp; Design</td>\n",
              "      <td>January 7, 2018</td>\n",
              "      <td>1.0.0</td>\n",
              "      <td>4.0.3 and up</td>\n",
              "    </tr>\n",
              "    <tr>\n",
              "      <th>1</th>\n",
              "      <td>Coloring book moana</td>\n",
              "      <td>ART_AND_DESIGN</td>\n",
              "      <td>3.9</td>\n",
              "      <td>967</td>\n",
              "      <td>14M</td>\n",
              "      <td>500,000+</td>\n",
              "      <td>Free</td>\n",
              "      <td>0</td>\n",
              "      <td>Everyone</td>\n",
              "      <td>Art &amp; Design;Pretend Play</td>\n",
              "      <td>January 15, 2018</td>\n",
              "      <td>2.0.0</td>\n",
              "      <td>4.0.3 and up</td>\n",
              "    </tr>\n",
              "    <tr>\n",
              "      <th>2</th>\n",
              "      <td>U Launcher Lite – FREE Live Cool Themes, Hide ...</td>\n",
              "      <td>ART_AND_DESIGN</td>\n",
              "      <td>4.7</td>\n",
              "      <td>87510</td>\n",
              "      <td>8.7M</td>\n",
              "      <td>5,000,000+</td>\n",
              "      <td>Free</td>\n",
              "      <td>0</td>\n",
              "      <td>Everyone</td>\n",
              "      <td>Art &amp; Design</td>\n",
              "      <td>August 1, 2018</td>\n",
              "      <td>1.2.4</td>\n",
              "      <td>4.0.3 and up</td>\n",
              "    </tr>\n",
              "    <tr>\n",
              "      <th>3</th>\n",
              "      <td>Sketch - Draw &amp; Paint</td>\n",
              "      <td>ART_AND_DESIGN</td>\n",
              "      <td>4.5</td>\n",
              "      <td>215644</td>\n",
              "      <td>25M</td>\n",
              "      <td>50,000,000+</td>\n",
              "      <td>Free</td>\n",
              "      <td>0</td>\n",
              "      <td>Teen</td>\n",
              "      <td>Art &amp; Design</td>\n",
              "      <td>June 8, 2018</td>\n",
              "      <td>Varies with device</td>\n",
              "      <td>4.2 and up</td>\n",
              "    </tr>\n",
              "    <tr>\n",
              "      <th>4</th>\n",
              "      <td>Pixel Draw - Number Art Coloring Book</td>\n",
              "      <td>ART_AND_DESIGN</td>\n",
              "      <td>4.3</td>\n",
              "      <td>967</td>\n",
              "      <td>2.8M</td>\n",
              "      <td>100,000+</td>\n",
              "      <td>Free</td>\n",
              "      <td>0</td>\n",
              "      <td>Everyone</td>\n",
              "      <td>Art &amp; Design;Creativity</td>\n",
              "      <td>June 20, 2018</td>\n",
              "      <td>1.1</td>\n",
              "      <td>4.4 and up</td>\n",
              "    </tr>\n",
              "    <tr>\n",
              "      <th>5</th>\n",
              "      <td>Paper flowers instructions</td>\n",
              "      <td>ART_AND_DESIGN</td>\n",
              "      <td>4.4</td>\n",
              "      <td>167</td>\n",
              "      <td>5.6M</td>\n",
              "      <td>50,000+</td>\n",
              "      <td>Free</td>\n",
              "      <td>0</td>\n",
              "      <td>Everyone</td>\n",
              "      <td>Art &amp; Design</td>\n",
              "      <td>March 26, 2017</td>\n",
              "      <td>1.0</td>\n",
              "      <td>2.3 and up</td>\n",
              "    </tr>\n",
              "    <tr>\n",
              "      <th>6</th>\n",
              "      <td>Smoke Effect Photo Maker - Smoke Editor</td>\n",
              "      <td>ART_AND_DESIGN</td>\n",
              "      <td>3.8</td>\n",
              "      <td>178</td>\n",
              "      <td>19M</td>\n",
              "      <td>50,000+</td>\n",
              "      <td>Free</td>\n",
              "      <td>0</td>\n",
              "      <td>Everyone</td>\n",
              "      <td>Art &amp; Design</td>\n",
              "      <td>April 26, 2018</td>\n",
              "      <td>1.1</td>\n",
              "      <td>4.0.3 and up</td>\n",
              "    </tr>\n",
              "    <tr>\n",
              "      <th>7</th>\n",
              "      <td>Infinite Painter</td>\n",
              "      <td>ART_AND_DESIGN</td>\n",
              "      <td>4.1</td>\n",
              "      <td>36815</td>\n",
              "      <td>29M</td>\n",
              "      <td>1,000,000+</td>\n",
              "      <td>Free</td>\n",
              "      <td>0</td>\n",
              "      <td>Everyone</td>\n",
              "      <td>Art &amp; Design</td>\n",
              "      <td>June 14, 2018</td>\n",
              "      <td>6.1.61.1</td>\n",
              "      <td>4.2 and up</td>\n",
              "    </tr>\n",
              "    <tr>\n",
              "      <th>8</th>\n",
              "      <td>Garden Coloring Book</td>\n",
              "      <td>ART_AND_DESIGN</td>\n",
              "      <td>4.4</td>\n",
              "      <td>13791</td>\n",
              "      <td>33M</td>\n",
              "      <td>1,000,000+</td>\n",
              "      <td>Free</td>\n",
              "      <td>0</td>\n",
              "      <td>Everyone</td>\n",
              "      <td>Art &amp; Design</td>\n",
              "      <td>September 20, 2017</td>\n",
              "      <td>2.9.2</td>\n",
              "      <td>3.0 and up</td>\n",
              "    </tr>\n",
              "    <tr>\n",
              "      <th>9</th>\n",
              "      <td>Kids Paint Free - Drawing Fun</td>\n",
              "      <td>ART_AND_DESIGN</td>\n",
              "      <td>4.7</td>\n",
              "      <td>121</td>\n",
              "      <td>3.1M</td>\n",
              "      <td>10,000+</td>\n",
              "      <td>Free</td>\n",
              "      <td>0</td>\n",
              "      <td>Everyone</td>\n",
              "      <td>Art &amp; Design;Creativity</td>\n",
              "      <td>July 3, 2018</td>\n",
              "      <td>2.8</td>\n",
              "      <td>4.0.3 and up</td>\n",
              "    </tr>\n",
              "  </tbody>\n",
              "</table>\n",
              "</div>"
            ],
            "text/plain": [
              "                                                 App  ...   Android Ver\n",
              "0     Photo Editor & Candy Camera & Grid & ScrapBook  ...  4.0.3 and up\n",
              "1                                Coloring book moana  ...  4.0.3 and up\n",
              "2  U Launcher Lite – FREE Live Cool Themes, Hide ...  ...  4.0.3 and up\n",
              "3                              Sketch - Draw & Paint  ...    4.2 and up\n",
              "4              Pixel Draw - Number Art Coloring Book  ...    4.4 and up\n",
              "5                         Paper flowers instructions  ...    2.3 and up\n",
              "6            Smoke Effect Photo Maker - Smoke Editor  ...  4.0.3 and up\n",
              "7                                   Infinite Painter  ...    4.2 and up\n",
              "8                               Garden Coloring Book  ...    3.0 and up\n",
              "9                      Kids Paint Free - Drawing Fun  ...  4.0.3 and up\n",
              "\n",
              "[10 rows x 13 columns]"
            ]
          },
          "metadata": {},
          "execution_count": 106
        }
      ]
    },
    {
      "cell_type": "code",
      "metadata": {
        "colab": {
          "base_uri": "https://localhost:8080/",
          "height": 491
        },
        "id": "NrQqD-dUXrhu",
        "outputId": "379232f0-6682-4fc4-c11d-7a493447ae3b"
      },
      "source": [
        "play_s_d.tail(10)"
      ],
      "execution_count": 107,
      "outputs": [
        {
          "output_type": "execute_result",
          "data": {
            "text/html": [
              "<div>\n",
              "<style scoped>\n",
              "    .dataframe tbody tr th:only-of-type {\n",
              "        vertical-align: middle;\n",
              "    }\n",
              "\n",
              "    .dataframe tbody tr th {\n",
              "        vertical-align: top;\n",
              "    }\n",
              "\n",
              "    .dataframe thead th {\n",
              "        text-align: right;\n",
              "    }\n",
              "</style>\n",
              "<table border=\"1\" class=\"dataframe\">\n",
              "  <thead>\n",
              "    <tr style=\"text-align: right;\">\n",
              "      <th></th>\n",
              "      <th>App</th>\n",
              "      <th>Category</th>\n",
              "      <th>Rating</th>\n",
              "      <th>Reviews</th>\n",
              "      <th>Size</th>\n",
              "      <th>Installs</th>\n",
              "      <th>Type</th>\n",
              "      <th>Price</th>\n",
              "      <th>Content Rating</th>\n",
              "      <th>Genres</th>\n",
              "      <th>Last Updated</th>\n",
              "      <th>Current Ver</th>\n",
              "      <th>Android Ver</th>\n",
              "    </tr>\n",
              "  </thead>\n",
              "  <tbody>\n",
              "    <tr>\n",
              "      <th>10831</th>\n",
              "      <td>payermonstationnement.fr</td>\n",
              "      <td>MAPS_AND_NAVIGATION</td>\n",
              "      <td>NaN</td>\n",
              "      <td>38</td>\n",
              "      <td>9.8M</td>\n",
              "      <td>5,000+</td>\n",
              "      <td>Free</td>\n",
              "      <td>0</td>\n",
              "      <td>Everyone</td>\n",
              "      <td>Maps &amp; Navigation</td>\n",
              "      <td>June 13, 2018</td>\n",
              "      <td>2.0.148.0</td>\n",
              "      <td>4.0 and up</td>\n",
              "    </tr>\n",
              "    <tr>\n",
              "      <th>10832</th>\n",
              "      <td>FR Tides</td>\n",
              "      <td>WEATHER</td>\n",
              "      <td>3.8</td>\n",
              "      <td>1195</td>\n",
              "      <td>582k</td>\n",
              "      <td>100,000+</td>\n",
              "      <td>Free</td>\n",
              "      <td>0</td>\n",
              "      <td>Everyone</td>\n",
              "      <td>Weather</td>\n",
              "      <td>February 16, 2014</td>\n",
              "      <td>6.0</td>\n",
              "      <td>2.1 and up</td>\n",
              "    </tr>\n",
              "    <tr>\n",
              "      <th>10833</th>\n",
              "      <td>Chemin (fr)</td>\n",
              "      <td>BOOKS_AND_REFERENCE</td>\n",
              "      <td>4.8</td>\n",
              "      <td>44</td>\n",
              "      <td>619k</td>\n",
              "      <td>1,000+</td>\n",
              "      <td>Free</td>\n",
              "      <td>0</td>\n",
              "      <td>Everyone</td>\n",
              "      <td>Books &amp; Reference</td>\n",
              "      <td>March 23, 2014</td>\n",
              "      <td>0.8</td>\n",
              "      <td>2.2 and up</td>\n",
              "    </tr>\n",
              "    <tr>\n",
              "      <th>10834</th>\n",
              "      <td>FR Calculator</td>\n",
              "      <td>FAMILY</td>\n",
              "      <td>4.0</td>\n",
              "      <td>7</td>\n",
              "      <td>2.6M</td>\n",
              "      <td>500+</td>\n",
              "      <td>Free</td>\n",
              "      <td>0</td>\n",
              "      <td>Everyone</td>\n",
              "      <td>Education</td>\n",
              "      <td>June 18, 2017</td>\n",
              "      <td>1.0.0</td>\n",
              "      <td>4.1 and up</td>\n",
              "    </tr>\n",
              "    <tr>\n",
              "      <th>10835</th>\n",
              "      <td>FR Forms</td>\n",
              "      <td>BUSINESS</td>\n",
              "      <td>NaN</td>\n",
              "      <td>0</td>\n",
              "      <td>9.6M</td>\n",
              "      <td>10+</td>\n",
              "      <td>Free</td>\n",
              "      <td>0</td>\n",
              "      <td>Everyone</td>\n",
              "      <td>Business</td>\n",
              "      <td>September 29, 2016</td>\n",
              "      <td>1.1.5</td>\n",
              "      <td>4.0 and up</td>\n",
              "    </tr>\n",
              "    <tr>\n",
              "      <th>10836</th>\n",
              "      <td>Sya9a Maroc - FR</td>\n",
              "      <td>FAMILY</td>\n",
              "      <td>4.5</td>\n",
              "      <td>38</td>\n",
              "      <td>53M</td>\n",
              "      <td>5,000+</td>\n",
              "      <td>Free</td>\n",
              "      <td>0</td>\n",
              "      <td>Everyone</td>\n",
              "      <td>Education</td>\n",
              "      <td>July 25, 2017</td>\n",
              "      <td>1.48</td>\n",
              "      <td>4.1 and up</td>\n",
              "    </tr>\n",
              "    <tr>\n",
              "      <th>10837</th>\n",
              "      <td>Fr. Mike Schmitz Audio Teachings</td>\n",
              "      <td>FAMILY</td>\n",
              "      <td>5.0</td>\n",
              "      <td>4</td>\n",
              "      <td>3.6M</td>\n",
              "      <td>100+</td>\n",
              "      <td>Free</td>\n",
              "      <td>0</td>\n",
              "      <td>Everyone</td>\n",
              "      <td>Education</td>\n",
              "      <td>July 6, 2018</td>\n",
              "      <td>1.0</td>\n",
              "      <td>4.1 and up</td>\n",
              "    </tr>\n",
              "    <tr>\n",
              "      <th>10838</th>\n",
              "      <td>Parkinson Exercices FR</td>\n",
              "      <td>MEDICAL</td>\n",
              "      <td>NaN</td>\n",
              "      <td>3</td>\n",
              "      <td>9.5M</td>\n",
              "      <td>1,000+</td>\n",
              "      <td>Free</td>\n",
              "      <td>0</td>\n",
              "      <td>Everyone</td>\n",
              "      <td>Medical</td>\n",
              "      <td>January 20, 2017</td>\n",
              "      <td>1.0</td>\n",
              "      <td>2.2 and up</td>\n",
              "    </tr>\n",
              "    <tr>\n",
              "      <th>10839</th>\n",
              "      <td>The SCP Foundation DB fr nn5n</td>\n",
              "      <td>BOOKS_AND_REFERENCE</td>\n",
              "      <td>4.5</td>\n",
              "      <td>114</td>\n",
              "      <td>Varies with device</td>\n",
              "      <td>1,000+</td>\n",
              "      <td>Free</td>\n",
              "      <td>0</td>\n",
              "      <td>Mature 17+</td>\n",
              "      <td>Books &amp; Reference</td>\n",
              "      <td>January 19, 2015</td>\n",
              "      <td>Varies with device</td>\n",
              "      <td>Varies with device</td>\n",
              "    </tr>\n",
              "    <tr>\n",
              "      <th>10840</th>\n",
              "      <td>iHoroscope - 2018 Daily Horoscope &amp; Astrology</td>\n",
              "      <td>LIFESTYLE</td>\n",
              "      <td>4.5</td>\n",
              "      <td>398307</td>\n",
              "      <td>19M</td>\n",
              "      <td>10,000,000+</td>\n",
              "      <td>Free</td>\n",
              "      <td>0</td>\n",
              "      <td>Everyone</td>\n",
              "      <td>Lifestyle</td>\n",
              "      <td>July 25, 2018</td>\n",
              "      <td>Varies with device</td>\n",
              "      <td>Varies with device</td>\n",
              "    </tr>\n",
              "  </tbody>\n",
              "</table>\n",
              "</div>"
            ],
            "text/plain": [
              "                                                 App  ...         Android Ver\n",
              "10831                       payermonstationnement.fr  ...          4.0 and up\n",
              "10832                                       FR Tides  ...          2.1 and up\n",
              "10833                                    Chemin (fr)  ...          2.2 and up\n",
              "10834                                  FR Calculator  ...          4.1 and up\n",
              "10835                                       FR Forms  ...          4.0 and up\n",
              "10836                               Sya9a Maroc - FR  ...          4.1 and up\n",
              "10837               Fr. Mike Schmitz Audio Teachings  ...          4.1 and up\n",
              "10838                         Parkinson Exercices FR  ...          2.2 and up\n",
              "10839                  The SCP Foundation DB fr nn5n  ...  Varies with device\n",
              "10840  iHoroscope - 2018 Daily Horoscope & Astrology  ...  Varies with device\n",
              "\n",
              "[10 rows x 13 columns]"
            ]
          },
          "metadata": {},
          "execution_count": 107
        }
      ]
    },
    {
      "cell_type": "code",
      "metadata": {
        "colab": {
          "base_uri": "https://localhost:8080/"
        },
        "id": "9C0u9Ph8X-53",
        "outputId": "a7a547f5-8ac7-4ae6-e59b-ddc591f78f7c"
      },
      "source": [
        "play_s_d.shape"
      ],
      "execution_count": 108,
      "outputs": [
        {
          "output_type": "execute_result",
          "data": {
            "text/plain": [
              "(10841, 13)"
            ]
          },
          "metadata": {},
          "execution_count": 108
        }
      ]
    },
    {
      "cell_type": "markdown",
      "metadata": {
        "id": "0YzNbzTUX8Pk"
      },
      "source": [
        "# Above dataframe having more than 10000 rows and 13 columns.\n",
        "\n",
        "##Play store dataframe of app which consist of name of application ,category of app , rating  given by users , number of users review, size of app in(Mb/Kb) , number of installs of each app , type of app(free/paid), price of app, rating of content , genres of app , last updated, current version of application and requried android version"
      ]
    },
    {
      "cell_type": "code",
      "metadata": {
        "colab": {
          "base_uri": "https://localhost:8080/"
        },
        "id": "3yju0DGQYHf5",
        "outputId": "414d942e-c33b-4166-8af1-542e4100ad1e"
      },
      "source": [
        "play_s_d.info()"
      ],
      "execution_count": 109,
      "outputs": [
        {
          "output_type": "stream",
          "name": "stdout",
          "text": [
            "<class 'pandas.core.frame.DataFrame'>\n",
            "RangeIndex: 10841 entries, 0 to 10840\n",
            "Data columns (total 13 columns):\n",
            " #   Column          Non-Null Count  Dtype  \n",
            "---  ------          --------------  -----  \n",
            " 0   App             10841 non-null  object \n",
            " 1   Category        10841 non-null  object \n",
            " 2   Rating          9367 non-null   float64\n",
            " 3   Reviews         10841 non-null  object \n",
            " 4   Size            10841 non-null  object \n",
            " 5   Installs        10841 non-null  object \n",
            " 6   Type            10840 non-null  object \n",
            " 7   Price           10841 non-null  object \n",
            " 8   Content Rating  10840 non-null  object \n",
            " 9   Genres          10841 non-null  object \n",
            " 10  Last Updated    10841 non-null  object \n",
            " 11  Current Ver     10833 non-null  object \n",
            " 12  Android Ver     10838 non-null  object \n",
            "dtypes: float64(1), object(12)\n",
            "memory usage: 1.1+ MB\n"
          ]
        }
      ]
    },
    {
      "cell_type": "code",
      "metadata": {
        "colab": {
          "base_uri": "https://localhost:8080/",
          "height": 357
        },
        "id": "PFJtzDdZYPB_",
        "outputId": "22a30e93-5b6d-429a-dba9-a29f211a467e"
      },
      "source": [
        "user_review.head(10)"
      ],
      "execution_count": 110,
      "outputs": [
        {
          "output_type": "execute_result",
          "data": {
            "text/html": [
              "<div>\n",
              "<style scoped>\n",
              "    .dataframe tbody tr th:only-of-type {\n",
              "        vertical-align: middle;\n",
              "    }\n",
              "\n",
              "    .dataframe tbody tr th {\n",
              "        vertical-align: top;\n",
              "    }\n",
              "\n",
              "    .dataframe thead th {\n",
              "        text-align: right;\n",
              "    }\n",
              "</style>\n",
              "<table border=\"1\" class=\"dataframe\">\n",
              "  <thead>\n",
              "    <tr style=\"text-align: right;\">\n",
              "      <th></th>\n",
              "      <th>App</th>\n",
              "      <th>Translated_Review</th>\n",
              "      <th>Sentiment</th>\n",
              "      <th>Sentiment_Polarity</th>\n",
              "      <th>Sentiment_Subjectivity</th>\n",
              "    </tr>\n",
              "  </thead>\n",
              "  <tbody>\n",
              "    <tr>\n",
              "      <th>0</th>\n",
              "      <td>10 Best Foods for You</td>\n",
              "      <td>I like eat delicious food. That's I'm cooking ...</td>\n",
              "      <td>Positive</td>\n",
              "      <td>1.00</td>\n",
              "      <td>0.533333</td>\n",
              "    </tr>\n",
              "    <tr>\n",
              "      <th>1</th>\n",
              "      <td>10 Best Foods for You</td>\n",
              "      <td>This help eating healthy exercise regular basis</td>\n",
              "      <td>Positive</td>\n",
              "      <td>0.25</td>\n",
              "      <td>0.288462</td>\n",
              "    </tr>\n",
              "    <tr>\n",
              "      <th>2</th>\n",
              "      <td>10 Best Foods for You</td>\n",
              "      <td>NaN</td>\n",
              "      <td>NaN</td>\n",
              "      <td>NaN</td>\n",
              "      <td>NaN</td>\n",
              "    </tr>\n",
              "    <tr>\n",
              "      <th>3</th>\n",
              "      <td>10 Best Foods for You</td>\n",
              "      <td>Works great especially going grocery store</td>\n",
              "      <td>Positive</td>\n",
              "      <td>0.40</td>\n",
              "      <td>0.875000</td>\n",
              "    </tr>\n",
              "    <tr>\n",
              "      <th>4</th>\n",
              "      <td>10 Best Foods for You</td>\n",
              "      <td>Best idea us</td>\n",
              "      <td>Positive</td>\n",
              "      <td>1.00</td>\n",
              "      <td>0.300000</td>\n",
              "    </tr>\n",
              "    <tr>\n",
              "      <th>5</th>\n",
              "      <td>10 Best Foods for You</td>\n",
              "      <td>Best way</td>\n",
              "      <td>Positive</td>\n",
              "      <td>1.00</td>\n",
              "      <td>0.300000</td>\n",
              "    </tr>\n",
              "    <tr>\n",
              "      <th>6</th>\n",
              "      <td>10 Best Foods for You</td>\n",
              "      <td>Amazing</td>\n",
              "      <td>Positive</td>\n",
              "      <td>0.60</td>\n",
              "      <td>0.900000</td>\n",
              "    </tr>\n",
              "    <tr>\n",
              "      <th>7</th>\n",
              "      <td>10 Best Foods for You</td>\n",
              "      <td>NaN</td>\n",
              "      <td>NaN</td>\n",
              "      <td>NaN</td>\n",
              "      <td>NaN</td>\n",
              "    </tr>\n",
              "    <tr>\n",
              "      <th>8</th>\n",
              "      <td>10 Best Foods for You</td>\n",
              "      <td>Looking forward app,</td>\n",
              "      <td>Neutral</td>\n",
              "      <td>0.00</td>\n",
              "      <td>0.000000</td>\n",
              "    </tr>\n",
              "    <tr>\n",
              "      <th>9</th>\n",
              "      <td>10 Best Foods for You</td>\n",
              "      <td>It helpful site ! It help foods get !</td>\n",
              "      <td>Neutral</td>\n",
              "      <td>0.00</td>\n",
              "      <td>0.000000</td>\n",
              "    </tr>\n",
              "  </tbody>\n",
              "</table>\n",
              "</div>"
            ],
            "text/plain": [
              "                     App  ... Sentiment_Subjectivity\n",
              "0  10 Best Foods for You  ...               0.533333\n",
              "1  10 Best Foods for You  ...               0.288462\n",
              "2  10 Best Foods for You  ...                    NaN\n",
              "3  10 Best Foods for You  ...               0.875000\n",
              "4  10 Best Foods for You  ...               0.300000\n",
              "5  10 Best Foods for You  ...               0.300000\n",
              "6  10 Best Foods for You  ...               0.900000\n",
              "7  10 Best Foods for You  ...                    NaN\n",
              "8  10 Best Foods for You  ...               0.000000\n",
              "9  10 Best Foods for You  ...               0.000000\n",
              "\n",
              "[10 rows x 5 columns]"
            ]
          },
          "metadata": {},
          "execution_count": 110
        }
      ]
    },
    {
      "cell_type": "code",
      "metadata": {
        "colab": {
          "base_uri": "https://localhost:8080/",
          "height": 357
        },
        "id": "xkbCHNFAYOry",
        "outputId": "6aaddb1f-0d3b-4411-852a-b26dadbc5f01"
      },
      "source": [
        "user_review.tail(10)"
      ],
      "execution_count": 111,
      "outputs": [
        {
          "output_type": "execute_result",
          "data": {
            "text/html": [
              "<div>\n",
              "<style scoped>\n",
              "    .dataframe tbody tr th:only-of-type {\n",
              "        vertical-align: middle;\n",
              "    }\n",
              "\n",
              "    .dataframe tbody tr th {\n",
              "        vertical-align: top;\n",
              "    }\n",
              "\n",
              "    .dataframe thead th {\n",
              "        text-align: right;\n",
              "    }\n",
              "</style>\n",
              "<table border=\"1\" class=\"dataframe\">\n",
              "  <thead>\n",
              "    <tr style=\"text-align: right;\">\n",
              "      <th></th>\n",
              "      <th>App</th>\n",
              "      <th>Translated_Review</th>\n",
              "      <th>Sentiment</th>\n",
              "      <th>Sentiment_Polarity</th>\n",
              "      <th>Sentiment_Subjectivity</th>\n",
              "    </tr>\n",
              "  </thead>\n",
              "  <tbody>\n",
              "    <tr>\n",
              "      <th>64285</th>\n",
              "      <td>Houzz Interior Design Ideas</td>\n",
              "      <td>NaN</td>\n",
              "      <td>NaN</td>\n",
              "      <td>NaN</td>\n",
              "      <td>NaN</td>\n",
              "    </tr>\n",
              "    <tr>\n",
              "      <th>64286</th>\n",
              "      <td>Houzz Interior Design Ideas</td>\n",
              "      <td>NaN</td>\n",
              "      <td>NaN</td>\n",
              "      <td>NaN</td>\n",
              "      <td>NaN</td>\n",
              "    </tr>\n",
              "    <tr>\n",
              "      <th>64287</th>\n",
              "      <td>Houzz Interior Design Ideas</td>\n",
              "      <td>NaN</td>\n",
              "      <td>NaN</td>\n",
              "      <td>NaN</td>\n",
              "      <td>NaN</td>\n",
              "    </tr>\n",
              "    <tr>\n",
              "      <th>64288</th>\n",
              "      <td>Houzz Interior Design Ideas</td>\n",
              "      <td>NaN</td>\n",
              "      <td>NaN</td>\n",
              "      <td>NaN</td>\n",
              "      <td>NaN</td>\n",
              "    </tr>\n",
              "    <tr>\n",
              "      <th>64289</th>\n",
              "      <td>Houzz Interior Design Ideas</td>\n",
              "      <td>NaN</td>\n",
              "      <td>NaN</td>\n",
              "      <td>NaN</td>\n",
              "      <td>NaN</td>\n",
              "    </tr>\n",
              "    <tr>\n",
              "      <th>64290</th>\n",
              "      <td>Houzz Interior Design Ideas</td>\n",
              "      <td>NaN</td>\n",
              "      <td>NaN</td>\n",
              "      <td>NaN</td>\n",
              "      <td>NaN</td>\n",
              "    </tr>\n",
              "    <tr>\n",
              "      <th>64291</th>\n",
              "      <td>Houzz Interior Design Ideas</td>\n",
              "      <td>NaN</td>\n",
              "      <td>NaN</td>\n",
              "      <td>NaN</td>\n",
              "      <td>NaN</td>\n",
              "    </tr>\n",
              "    <tr>\n",
              "      <th>64292</th>\n",
              "      <td>Houzz Interior Design Ideas</td>\n",
              "      <td>NaN</td>\n",
              "      <td>NaN</td>\n",
              "      <td>NaN</td>\n",
              "      <td>NaN</td>\n",
              "    </tr>\n",
              "    <tr>\n",
              "      <th>64293</th>\n",
              "      <td>Houzz Interior Design Ideas</td>\n",
              "      <td>NaN</td>\n",
              "      <td>NaN</td>\n",
              "      <td>NaN</td>\n",
              "      <td>NaN</td>\n",
              "    </tr>\n",
              "    <tr>\n",
              "      <th>64294</th>\n",
              "      <td>Houzz Interior Design Ideas</td>\n",
              "      <td>NaN</td>\n",
              "      <td>NaN</td>\n",
              "      <td>NaN</td>\n",
              "      <td>NaN</td>\n",
              "    </tr>\n",
              "  </tbody>\n",
              "</table>\n",
              "</div>"
            ],
            "text/plain": [
              "                               App  ... Sentiment_Subjectivity\n",
              "64285  Houzz Interior Design Ideas  ...                    NaN\n",
              "64286  Houzz Interior Design Ideas  ...                    NaN\n",
              "64287  Houzz Interior Design Ideas  ...                    NaN\n",
              "64288  Houzz Interior Design Ideas  ...                    NaN\n",
              "64289  Houzz Interior Design Ideas  ...                    NaN\n",
              "64290  Houzz Interior Design Ideas  ...                    NaN\n",
              "64291  Houzz Interior Design Ideas  ...                    NaN\n",
              "64292  Houzz Interior Design Ideas  ...                    NaN\n",
              "64293  Houzz Interior Design Ideas  ...                    NaN\n",
              "64294  Houzz Interior Design Ideas  ...                    NaN\n",
              "\n",
              "[10 rows x 5 columns]"
            ]
          },
          "metadata": {},
          "execution_count": 111
        }
      ]
    },
    {
      "cell_type": "code",
      "metadata": {
        "colab": {
          "base_uri": "https://localhost:8080/"
        },
        "id": "P00Djt5CYOiY",
        "outputId": "da41f34f-87df-4c3f-b215-625a19ed31fa"
      },
      "source": [
        "user_review.shape"
      ],
      "execution_count": 112,
      "outputs": [
        {
          "output_type": "execute_result",
          "data": {
            "text/plain": [
              "(64295, 5)"
            ]
          },
          "metadata": {},
          "execution_count": 112
        }
      ]
    },
    {
      "cell_type": "code",
      "metadata": {
        "colab": {
          "base_uri": "https://localhost:8080/"
        },
        "id": "1kFdLRwkYrdU",
        "outputId": "6fd44636-d15a-492f-e16c-4e8827508dbf"
      },
      "source": [
        "user_review.info()"
      ],
      "execution_count": 113,
      "outputs": [
        {
          "output_type": "stream",
          "name": "stdout",
          "text": [
            "<class 'pandas.core.frame.DataFrame'>\n",
            "RangeIndex: 64295 entries, 0 to 64294\n",
            "Data columns (total 5 columns):\n",
            " #   Column                  Non-Null Count  Dtype  \n",
            "---  ------                  --------------  -----  \n",
            " 0   App                     64295 non-null  object \n",
            " 1   Translated_Review       37427 non-null  object \n",
            " 2   Sentiment               37432 non-null  object \n",
            " 3   Sentiment_Polarity      37432 non-null  float64\n",
            " 4   Sentiment_Subjectivity  37432 non-null  float64\n",
            "dtypes: float64(2), object(3)\n",
            "memory usage: 2.5+ MB\n"
          ]
        }
      ]
    },
    {
      "cell_type": "markdown",
      "metadata": {
        "id": "DFGf9wX-YdRz"
      },
      "source": [
        "# Above User_review dataframe is having more than 6000 rows and 5 columns:\n",
        "## name of app , translated_review given by users, sentiment , sentiment polarity , sentiment subjective"
      ]
    },
    {
      "cell_type": "markdown",
      "metadata": {
        "id": "-PrTXimFYlHc"
      },
      "source": [
        "## lets see first play store dataset\n"
      ]
    },
    {
      "cell_type": "code",
      "metadata": {
        "id": "y92Y_045Yw8E"
      },
      "source": [
        "# Replacing space in columns with _\n",
        "\n",
        "play_s_d.columns=[each.replace(\" \",\"_\") for each in play_s_d.columns]"
      ],
      "execution_count": 114,
      "outputs": []
    },
    {
      "cell_type": "code",
      "metadata": {
        "colab": {
          "base_uri": "https://localhost:8080/"
        },
        "id": "_e6oYuclZE1P",
        "outputId": "8b0c6e7f-e683-4f41-cf7e-8e8537da9be4"
      },
      "source": [
        "play_s_d.info()"
      ],
      "execution_count": 115,
      "outputs": [
        {
          "output_type": "stream",
          "name": "stdout",
          "text": [
            "<class 'pandas.core.frame.DataFrame'>\n",
            "RangeIndex: 10841 entries, 0 to 10840\n",
            "Data columns (total 13 columns):\n",
            " #   Column          Non-Null Count  Dtype  \n",
            "---  ------          --------------  -----  \n",
            " 0   App             10841 non-null  object \n",
            " 1   Category        10841 non-null  object \n",
            " 2   Rating          9367 non-null   float64\n",
            " 3   Reviews         10841 non-null  object \n",
            " 4   Size            10841 non-null  object \n",
            " 5   Installs        10841 non-null  object \n",
            " 6   Type            10840 non-null  object \n",
            " 7   Price           10841 non-null  object \n",
            " 8   Content_Rating  10840 non-null  object \n",
            " 9   Genres          10841 non-null  object \n",
            " 10  Last_Updated    10841 non-null  object \n",
            " 11  Current_Ver     10833 non-null  object \n",
            " 12  Android_Ver     10838 non-null  object \n",
            "dtypes: float64(1), object(12)\n",
            "memory usage: 1.1+ MB\n"
          ]
        }
      ]
    },
    {
      "cell_type": "markdown",
      "metadata": {
        "id": "rK6t6lwGZQ73"
      },
      "source": [
        "## as we can see the play store dataset is having Review, Size of app, number of installs, and price is object data type and we can also see there is null value in some columns \n",
        "## now first i will convert Review, Size, Installs and price into numeric data type"
      ]
    },
    {
      "cell_type": "code",
      "metadata": {
        "id": "c9siJBzXZUif"
      },
      "source": [
        "#Change reviews column datatype to int\n",
        "play_s_d.Reviews = play_s_d.Reviews.apply(lambda x: float(str(x).replace('M', '')) if 'M' in str(x) else x) \n",
        "play_s_d.Reviews = play_s_d.Reviews.apply(lambda x:int(x))"
      ],
      "execution_count": 116,
      "outputs": []
    },
    {
      "cell_type": "code",
      "metadata": {
        "colab": {
          "base_uri": "https://localhost:8080/"
        },
        "id": "TMyKRkhQZh3m",
        "outputId": "d1a1f2c4-cf3f-4df9-df18-8d2aca1efb10"
      },
      "source": [
        "play_s_d['Reviews'].mean()"
      ],
      "execution_count": 117,
      "outputs": [
        {
          "output_type": "execute_result",
          "data": {
            "text/plain": [
              "444111.9265750392"
            ]
          },
          "metadata": {},
          "execution_count": 117
        }
      ]
    },
    {
      "cell_type": "code",
      "metadata": {
        "id": "SwWHSFUlZj_B"
      },
      "source": [
        "#converting column \"Size\"  Mb Kb and  (+) and (,) to float using lamda function\n",
        "play_s_d['Size'] = play_s_d['Size'].apply(lambda x: str(x).replace('Varies with device', 'NaN') if 'Varies with device' in str(x) else x)\n",
        "play_s_d['Size'] = play_s_d['Size'].apply(lambda x: str(x).replace('M', '') if 'M' in str(x) else x)\n",
        "play_s_d['Size'] = play_s_d['Size'].apply(lambda x: str(x).replace(',', '') if ',' in str(x) else x)\n",
        "play_s_d['Size'] = play_s_d['Size'].apply(lambda x: float(str(x).replace('k', '')) / 1000 if 'k' in str(x) else x) # 1 MB is equal to 1000 KB\n",
        "play_s_d['Size'] = play_s_d['Size'].apply(lambda x: str(x).replace('+','') if '+' in str(x) else x)\n"
      ],
      "execution_count": 118,
      "outputs": []
    },
    {
      "cell_type": "code",
      "metadata": {
        "id": "nEuFnPI9Zjtm"
      },
      "source": [
        "play_s_d['Size'] = play_s_d['Size'].apply(lambda x: float(x))"
      ],
      "execution_count": 119,
      "outputs": []
    },
    {
      "cell_type": "code",
      "metadata": {
        "colab": {
          "base_uri": "https://localhost:8080/"
        },
        "id": "CQdzcx6aZjje",
        "outputId": "43fe6ba7-cb1a-495e-b5ca-518b44c0cf83"
      },
      "source": [
        "play_s_d['Size'].min()"
      ],
      "execution_count": 120,
      "outputs": [
        {
          "output_type": "execute_result",
          "data": {
            "text/plain": [
              "0.0085"
            ]
          },
          "metadata": {},
          "execution_count": 120
        }
      ]
    },
    {
      "cell_type": "markdown",
      "metadata": {
        "id": "DUr2WP_aZxfE"
      },
      "source": [
        "## minimum Size is not zero so i can move forward"
      ]
    },
    {
      "cell_type": "code",
      "metadata": {
        "colab": {
          "base_uri": "https://localhost:8080/"
        },
        "id": "ipQ2e6-ZZyea",
        "outputId": "7407e197-da68-4c3b-e5e3-aac92d6e0ad4"
      },
      "source": [
        "play_s_d['Size'].max()"
      ],
      "execution_count": 121,
      "outputs": [
        {
          "output_type": "execute_result",
          "data": {
            "text/plain": [
              "1000.0"
            ]
          },
          "metadata": {},
          "execution_count": 121
        }
      ]
    },
    {
      "cell_type": "code",
      "metadata": {
        "colab": {
          "base_uri": "https://localhost:8080/"
        },
        "id": "Giy73SObZ-3l",
        "outputId": "3a1f88be-b1d3-4b63-c518-5d9da513c53b"
      },
      "source": [
        "play_s_d['Size'].mean()"
      ],
      "execution_count": 122,
      "outputs": [
        {
          "output_type": "execute_result",
          "data": {
            "text/plain": [
              "21.62351437787002"
            ]
          },
          "metadata": {},
          "execution_count": 122
        }
      ]
    },
    {
      "cell_type": "markdown",
      "metadata": {
        "id": "_xcmGkQvaYEN"
      },
      "source": [
        "## so now i have successfully converted two columns.\n",
        "## Reviews and Size are now numeric data type"
      ]
    },
    {
      "cell_type": "code",
      "metadata": {
        "colab": {
          "base_uri": "https://localhost:8080/"
        },
        "id": "GZWwkDCzcfh_",
        "outputId": "eb13845a-42f7-4e25-e8b8-b1e22c659ac5"
      },
      "source": [
        "play_s_d['Installs'].unique()"
      ],
      "execution_count": 123,
      "outputs": [
        {
          "output_type": "execute_result",
          "data": {
            "text/plain": [
              "array(['10,000+', '500,000+', '5,000,000+', '50,000,000+', '100,000+',\n",
              "       '50,000+', '1,000,000+', '10,000,000+', '5,000+', '100,000,000+',\n",
              "       '1,000,000,000+', '1,000+', '500,000,000+', '50+', '100+', '500+',\n",
              "       '10+', '1+', '5+', '0+', '0', 'Free'], dtype=object)"
            ]
          },
          "metadata": {},
          "execution_count": 123
        }
      ]
    },
    {
      "cell_type": "markdown",
      "metadata": {
        "id": "rNExlTHZc_uV"
      },
      "source": [
        "## we can see that there is + and coma(,) symbol and Free srting\n",
        "## so i will remove those symbolys\n",
        "## replace Free with nan"
      ]
    },
    {
      "cell_type": "code",
      "metadata": {
        "id": "uMuo2Jrscxsy"
      },
      "source": [
        "# converting column 'Installs'\n",
        "play_s_d['Installs'] = play_s_d['Installs'].apply(lambda x: str(x).replace('Free', 'NaN') if 'Free' in str(x) else x)\n",
        "play_s_d['Installs'] = play_s_d['Installs'].apply(lambda x: str(x).replace('+', '') if '+' in str(x) else x)\n",
        "play_s_d['Installs'] = play_s_d['Installs'].apply(lambda x: str(x).replace(',', '') if ',' in str(x) else x)\n",
        "play_s_d['Installs']=play_s_d['Installs'].apply(lambda x: float(x))"
      ],
      "execution_count": 124,
      "outputs": []
    },
    {
      "cell_type": "code",
      "metadata": {
        "colab": {
          "base_uri": "https://localhost:8080/"
        },
        "id": "EhCKAuxccxfE",
        "outputId": "cb5a7f8f-ea9b-40b1-ea34-f23ffb1bf7a1"
      },
      "source": [
        "play_s_d['Installs'].min(),play_s_d['Installs'].max()"
      ],
      "execution_count": 125,
      "outputs": [
        {
          "output_type": "execute_result",
          "data": {
            "text/plain": [
              "(0.0, 1000000000.0)"
            ]
          },
          "metadata": {},
          "execution_count": 125
        }
      ]
    },
    {
      "cell_type": "code",
      "metadata": {
        "colab": {
          "base_uri": "https://localhost:8080/"
        },
        "id": "8Xs8lYZ8dzrI",
        "outputId": "27a06a07-d294-4a24-a903-8675de4cd0ba"
      },
      "source": [
        "play_s_d['Installs'].mean()"
      ],
      "execution_count": 126,
      "outputs": [
        {
          "output_type": "execute_result",
          "data": {
            "text/plain": [
              "15464338.882564576"
            ]
          },
          "metadata": {},
          "execution_count": 126
        }
      ]
    },
    {
      "cell_type": "code",
      "metadata": {
        "colab": {
          "base_uri": "https://localhost:8080/"
        },
        "id": "dJRHmjzybiFu",
        "outputId": "7cc196be-c18b-4c9a-da15-6e551b58c73b"
      },
      "source": [
        "play_s_d['Price'].unique()"
      ],
      "execution_count": 127,
      "outputs": [
        {
          "output_type": "execute_result",
          "data": {
            "text/plain": [
              "array(['0', '$4.99', '$3.99', '$6.99', '$1.49', '$2.99', '$7.99', '$5.99',\n",
              "       '$3.49', '$1.99', '$9.99', '$7.49', '$0.99', '$9.00', '$5.49',\n",
              "       '$10.00', '$24.99', '$11.99', '$79.99', '$16.99', '$14.99',\n",
              "       '$1.00', '$29.99', '$12.99', '$2.49', '$10.99', '$1.50', '$19.99',\n",
              "       '$15.99', '$33.99', '$74.99', '$39.99', '$3.95', '$4.49', '$1.70',\n",
              "       '$8.99', '$2.00', '$3.88', '$25.99', '$399.99', '$17.99',\n",
              "       '$400.00', '$3.02', '$1.76', '$4.84', '$4.77', '$1.61', '$2.50',\n",
              "       '$1.59', '$6.49', '$1.29', '$5.00', '$13.99', '$299.99', '$379.99',\n",
              "       '$37.99', '$18.99', '$389.99', '$19.90', '$8.49', '$1.75',\n",
              "       '$14.00', '$4.85', '$46.99', '$109.99', '$154.99', '$3.08',\n",
              "       '$2.59', '$4.80', '$1.96', '$19.40', '$3.90', '$4.59', '$15.46',\n",
              "       '$3.04', '$4.29', '$2.60', '$3.28', '$4.60', '$28.99', '$2.95',\n",
              "       '$2.90', '$1.97', '$200.00', '$89.99', '$2.56', '$30.99', '$3.61',\n",
              "       '$394.99', '$1.26', 'Everyone', '$1.20', '$1.04'], dtype=object)"
            ]
          },
          "metadata": {},
          "execution_count": 127
        }
      ]
    },
    {
      "cell_type": "markdown",
      "metadata": {
        "id": "a7_TxvapbjZI"
      },
      "source": [
        "## as we can see there is dollar symbol and having string 'Everyone'\n",
        "## so i will remove dollar symbol and replace Everyone with nan"
      ]
    },
    {
      "cell_type": "code",
      "metadata": {
        "id": "C9-KLhrxbpz4"
      },
      "source": [
        "# converting column \"Price\" \n",
        "play_s_d['Price'] = play_s_d['Price'].apply(lambda x: str(x).replace('Everyone', 'NaN') if 'Everyone' in str(x) else x)\n",
        "\n",
        "play_s_d['Price'] = play_s_d['Price'].apply(lambda x: str(x).replace('$','') if '$' in str(x) else x)\n",
        "play_s_d['Price'] = play_s_d['Price'].apply(lambda x: str(x).replace(' ','') if ' ' in str(x) else x)"
      ],
      "execution_count": 128,
      "outputs": []
    },
    {
      "cell_type": "code",
      "metadata": {
        "id": "YCOpU2PabqC5"
      },
      "source": [
        "play_s_d['Price']=play_s_d['Price'].apply(lambda x: float(x))"
      ],
      "execution_count": 129,
      "outputs": []
    },
    {
      "cell_type": "code",
      "metadata": {
        "colab": {
          "base_uri": "https://localhost:8080/"
        },
        "id": "a1sV_0jIcE3v",
        "outputId": "4ecc7183-7acb-4ca9-985c-98201dcb6c37"
      },
      "source": [
        "play_s_d['Price'].min()"
      ],
      "execution_count": 130,
      "outputs": [
        {
          "output_type": "execute_result",
          "data": {
            "text/plain": [
              "0.0"
            ]
          },
          "metadata": {},
          "execution_count": 130
        }
      ]
    },
    {
      "cell_type": "code",
      "metadata": {
        "colab": {
          "base_uri": "https://localhost:8080/"
        },
        "id": "5RXyyn7TcFn9",
        "outputId": "42709de3-5dc9-49a1-ed4d-ca33e2fa7092"
      },
      "source": [
        "play_s_d['Price'].max()"
      ],
      "execution_count": 131,
      "outputs": [
        {
          "output_type": "execute_result",
          "data": {
            "text/plain": [
              "400.0"
            ]
          },
          "metadata": {},
          "execution_count": 131
        }
      ]
    },
    {
      "cell_type": "code",
      "metadata": {
        "colab": {
          "base_uri": "https://localhost:8080/"
        },
        "id": "wEHEQsumcHgZ",
        "outputId": "d55cb076-8abf-4894-9749-8aa033ed5c7e"
      },
      "source": [
        "play_s_d['Price'].mean()"
      ],
      "execution_count": 132,
      "outputs": [
        {
          "output_type": "execute_result",
          "data": {
            "text/plain": [
              "1.027368081180801"
            ]
          },
          "metadata": {},
          "execution_count": 132
        }
      ]
    },
    {
      "cell_type": "code",
      "metadata": {
        "colab": {
          "base_uri": "https://localhost:8080/"
        },
        "id": "sarjpIeyep36",
        "outputId": "0bcb6302-1a49-47bf-ab46-b62af7c90355"
      },
      "source": [
        "play_s_d.info()"
      ],
      "execution_count": 133,
      "outputs": [
        {
          "output_type": "stream",
          "name": "stdout",
          "text": [
            "<class 'pandas.core.frame.DataFrame'>\n",
            "RangeIndex: 10841 entries, 0 to 10840\n",
            "Data columns (total 13 columns):\n",
            " #   Column          Non-Null Count  Dtype  \n",
            "---  ------          --------------  -----  \n",
            " 0   App             10841 non-null  object \n",
            " 1   Category        10841 non-null  object \n",
            " 2   Rating          9367 non-null   float64\n",
            " 3   Reviews         10841 non-null  int64  \n",
            " 4   Size            9146 non-null   float64\n",
            " 5   Installs        10840 non-null  float64\n",
            " 6   Type            10840 non-null  object \n",
            " 7   Price           10840 non-null  float64\n",
            " 8   Content_Rating  10840 non-null  object \n",
            " 9   Genres          10841 non-null  object \n",
            " 10  Last_Updated    10841 non-null  object \n",
            " 11  Current_Ver     10833 non-null  object \n",
            " 12  Android_Ver     10838 non-null  object \n",
            "dtypes: float64(4), int64(1), object(8)\n",
            "memory usage: 1.1+ MB\n"
          ]
        }
      ]
    },
    {
      "cell_type": "markdown",
      "metadata": {
        "id": "lyWFzyBue36H"
      },
      "source": [
        "## Now I have changed the data type of coulmns Reviews,Size,Installs,Price from object to float and integer data type.\n",
        "\n"
      ]
    },
    {
      "cell_type": "code",
      "metadata": {
        "colab": {
          "base_uri": "https://localhost:8080/"
        },
        "id": "smbM4Pe1_T3W",
        "outputId": "75a4664f-87a4-4b16-d26e-ed83d9af8951"
      },
      "source": [
        "play_s_d.isna().sum()"
      ],
      "execution_count": 134,
      "outputs": [
        {
          "output_type": "execute_result",
          "data": {
            "text/plain": [
              "App                  0\n",
              "Category             0\n",
              "Rating            1474\n",
              "Reviews              0\n",
              "Size              1695\n",
              "Installs             1\n",
              "Type                 1\n",
              "Price                1\n",
              "Content_Rating       1\n",
              "Genres               0\n",
              "Last_Updated         0\n",
              "Current_Ver          8\n",
              "Android_Ver          3\n",
              "dtype: int64"
            ]
          },
          "metadata": {},
          "execution_count": 134
        }
      ]
    },
    {
      "cell_type": "markdown",
      "metadata": {
        "id": "5zYEYs5E_SA-"
      },
      "source": [
        "## lets move to replace missing values"
      ]
    },
    {
      "cell_type": "code",
      "metadata": {
        "colab": {
          "base_uri": "https://localhost:8080/"
        },
        "id": "aTzR9-bHHNHn",
        "outputId": "a5c48e6b-f88d-467f-f293-a3ec59755bbd"
      },
      "source": [
        "play_s_d['Rating'].mean()"
      ],
      "execution_count": 135,
      "outputs": [
        {
          "output_type": "execute_result",
          "data": {
            "text/plain": [
              "4.193338315362448"
            ]
          },
          "metadata": {},
          "execution_count": 135
        }
      ]
    },
    {
      "cell_type": "code",
      "metadata": {
        "id": "1n5HSY6SHs8-"
      },
      "source": [
        "# replace null values in column Rating with mean()\n",
        "play_s_d['Rating'].fillna(value=4.1,inplace=True)"
      ],
      "execution_count": 136,
      "outputs": []
    },
    {
      "cell_type": "code",
      "metadata": {
        "colab": {
          "base_uri": "https://localhost:8080/"
        },
        "id": "leqk7gPoFqli",
        "outputId": "ca5cef37-c06b-47b5-c0da-1adea083d346"
      },
      "source": [
        "play_s_d['Rating'].max()"
      ],
      "execution_count": 137,
      "outputs": [
        {
          "output_type": "execute_result",
          "data": {
            "text/plain": [
              "19.0"
            ]
          },
          "metadata": {},
          "execution_count": 137
        }
      ]
    },
    {
      "cell_type": "markdown",
      "metadata": {
        "id": "NnDgzU2mF0Ub"
      },
      "source": [
        "## we know that maximum rating should be 5 but the above output is having greater than 5 rating\n",
        "##lets see how many rows are having rating greater than zero"
      ]
    },
    {
      "cell_type": "code",
      "metadata": {
        "colab": {
          "base_uri": "https://localhost:8080/",
          "height": 80
        },
        "id": "I9XzPW5PG4s_",
        "outputId": "cc8b8bfe-e3d5-4707-fd29-b229f58c3fbf"
      },
      "source": [
        "play_s_d[play_s_d['Rating']>5]"
      ],
      "execution_count": 138,
      "outputs": [
        {
          "output_type": "execute_result",
          "data": {
            "text/html": [
              "<div>\n",
              "<style scoped>\n",
              "    .dataframe tbody tr th:only-of-type {\n",
              "        vertical-align: middle;\n",
              "    }\n",
              "\n",
              "    .dataframe tbody tr th {\n",
              "        vertical-align: top;\n",
              "    }\n",
              "\n",
              "    .dataframe thead th {\n",
              "        text-align: right;\n",
              "    }\n",
              "</style>\n",
              "<table border=\"1\" class=\"dataframe\">\n",
              "  <thead>\n",
              "    <tr style=\"text-align: right;\">\n",
              "      <th></th>\n",
              "      <th>App</th>\n",
              "      <th>Category</th>\n",
              "      <th>Rating</th>\n",
              "      <th>Reviews</th>\n",
              "      <th>Size</th>\n",
              "      <th>Installs</th>\n",
              "      <th>Type</th>\n",
              "      <th>Price</th>\n",
              "      <th>Content_Rating</th>\n",
              "      <th>Genres</th>\n",
              "      <th>Last_Updated</th>\n",
              "      <th>Current_Ver</th>\n",
              "      <th>Android_Ver</th>\n",
              "    </tr>\n",
              "  </thead>\n",
              "  <tbody>\n",
              "    <tr>\n",
              "      <th>10472</th>\n",
              "      <td>Life Made WI-Fi Touchscreen Photo Frame</td>\n",
              "      <td>1.9</td>\n",
              "      <td>19.0</td>\n",
              "      <td>3</td>\n",
              "      <td>1000.0</td>\n",
              "      <td>NaN</td>\n",
              "      <td>0</td>\n",
              "      <td>NaN</td>\n",
              "      <td>NaN</td>\n",
              "      <td>February 11, 2018</td>\n",
              "      <td>1.0.19</td>\n",
              "      <td>4.0 and up</td>\n",
              "      <td>NaN</td>\n",
              "    </tr>\n",
              "  </tbody>\n",
              "</table>\n",
              "</div>"
            ],
            "text/plain": [
              "                                           App Category  ...  Current_Ver  Android_Ver\n",
              "10472  Life Made WI-Fi Touchscreen Photo Frame      1.9  ...   4.0 and up          NaN\n",
              "\n",
              "[1 rows x 13 columns]"
            ]
          },
          "metadata": {},
          "execution_count": 138
        }
      ]
    },
    {
      "cell_type": "code",
      "metadata": {
        "colab": {
          "base_uri": "https://localhost:8080/",
          "height": 80
        },
        "id": "zyfBFvzSLMOF",
        "outputId": "1e872dca-f69e-46ff-fd7a-ac417d45f44f"
      },
      "source": [
        "play_s_d[play_s_d['Installs'].isna()]"
      ],
      "execution_count": 139,
      "outputs": [
        {
          "output_type": "execute_result",
          "data": {
            "text/html": [
              "<div>\n",
              "<style scoped>\n",
              "    .dataframe tbody tr th:only-of-type {\n",
              "        vertical-align: middle;\n",
              "    }\n",
              "\n",
              "    .dataframe tbody tr th {\n",
              "        vertical-align: top;\n",
              "    }\n",
              "\n",
              "    .dataframe thead th {\n",
              "        text-align: right;\n",
              "    }\n",
              "</style>\n",
              "<table border=\"1\" class=\"dataframe\">\n",
              "  <thead>\n",
              "    <tr style=\"text-align: right;\">\n",
              "      <th></th>\n",
              "      <th>App</th>\n",
              "      <th>Category</th>\n",
              "      <th>Rating</th>\n",
              "      <th>Reviews</th>\n",
              "      <th>Size</th>\n",
              "      <th>Installs</th>\n",
              "      <th>Type</th>\n",
              "      <th>Price</th>\n",
              "      <th>Content_Rating</th>\n",
              "      <th>Genres</th>\n",
              "      <th>Last_Updated</th>\n",
              "      <th>Current_Ver</th>\n",
              "      <th>Android_Ver</th>\n",
              "    </tr>\n",
              "  </thead>\n",
              "  <tbody>\n",
              "    <tr>\n",
              "      <th>10472</th>\n",
              "      <td>Life Made WI-Fi Touchscreen Photo Frame</td>\n",
              "      <td>1.9</td>\n",
              "      <td>19.0</td>\n",
              "      <td>3</td>\n",
              "      <td>1000.0</td>\n",
              "      <td>NaN</td>\n",
              "      <td>0</td>\n",
              "      <td>NaN</td>\n",
              "      <td>NaN</td>\n",
              "      <td>February 11, 2018</td>\n",
              "      <td>1.0.19</td>\n",
              "      <td>4.0 and up</td>\n",
              "      <td>NaN</td>\n",
              "    </tr>\n",
              "  </tbody>\n",
              "</table>\n",
              "</div>"
            ],
            "text/plain": [
              "                                           App Category  ...  Current_Ver  Android_Ver\n",
              "10472  Life Made WI-Fi Touchscreen Photo Frame      1.9  ...   4.0 and up          NaN\n",
              "\n",
              "[1 rows x 13 columns]"
            ]
          },
          "metadata": {},
          "execution_count": 139
        }
      ]
    },
    {
      "cell_type": "markdown",
      "metadata": {
        "id": "46Ld6cSjJQCb"
      },
      "source": [
        "## it has only one row where rating is greater than 5 so we can simply just drop that row "
      ]
    },
    {
      "cell_type": "code",
      "metadata": {
        "id": "yJOeBBK3fJci"
      },
      "source": [
        "play_s_d.drop([10472],inplace= True)"
      ],
      "execution_count": 140,
      "outputs": []
    },
    {
      "cell_type": "code",
      "metadata": {
        "colab": {
          "base_uri": "https://localhost:8080/",
          "height": 49
        },
        "id": "r6S73vbNKdYA",
        "outputId": "c934ccaa-7ad3-49e4-9503-932c0d77b0d6"
      },
      "source": [
        "play_s_d[play_s_d['Rating']>5]"
      ],
      "execution_count": 141,
      "outputs": [
        {
          "output_type": "execute_result",
          "data": {
            "text/html": [
              "<div>\n",
              "<style scoped>\n",
              "    .dataframe tbody tr th:only-of-type {\n",
              "        vertical-align: middle;\n",
              "    }\n",
              "\n",
              "    .dataframe tbody tr th {\n",
              "        vertical-align: top;\n",
              "    }\n",
              "\n",
              "    .dataframe thead th {\n",
              "        text-align: right;\n",
              "    }\n",
              "</style>\n",
              "<table border=\"1\" class=\"dataframe\">\n",
              "  <thead>\n",
              "    <tr style=\"text-align: right;\">\n",
              "      <th></th>\n",
              "      <th>App</th>\n",
              "      <th>Category</th>\n",
              "      <th>Rating</th>\n",
              "      <th>Reviews</th>\n",
              "      <th>Size</th>\n",
              "      <th>Installs</th>\n",
              "      <th>Type</th>\n",
              "      <th>Price</th>\n",
              "      <th>Content_Rating</th>\n",
              "      <th>Genres</th>\n",
              "      <th>Last_Updated</th>\n",
              "      <th>Current_Ver</th>\n",
              "      <th>Android_Ver</th>\n",
              "    </tr>\n",
              "  </thead>\n",
              "  <tbody>\n",
              "  </tbody>\n",
              "</table>\n",
              "</div>"
            ],
            "text/plain": [
              "Empty DataFrame\n",
              "Columns: [App, Category, Rating, Reviews, Size, Installs, Type, Price, Content_Rating, Genres, Last_Updated, Current_Ver, Android_Ver]\n",
              "Index: []"
            ]
          },
          "metadata": {},
          "execution_count": 141
        }
      ]
    },
    {
      "cell_type": "code",
      "metadata": {
        "colab": {
          "base_uri": "https://localhost:8080/"
        },
        "id": "wQZfA77hKjgs",
        "outputId": "545cca8d-509e-4d8d-fe62-0c89cee9ae64"
      },
      "source": [
        "play_s_d['Rating'].isna().any()"
      ],
      "execution_count": 142,
      "outputs": [
        {
          "output_type": "execute_result",
          "data": {
            "text/plain": [
              "False"
            ]
          },
          "metadata": {},
          "execution_count": 142
        }
      ]
    },
    {
      "cell_type": "markdown",
      "metadata": {
        "id": "ItXYqsKYKrcR"
      },
      "source": [
        "## now i have successfully removed null values in Rating column"
      ]
    },
    {
      "cell_type": "code",
      "metadata": {
        "colab": {
          "base_uri": "https://localhost:8080/",
          "height": 49
        },
        "id": "h9DGC0j-N3-x",
        "outputId": "b0fcb771-af63-49c7-a9de-4f21d0d02c74"
      },
      "source": [
        "play_s_d[play_s_d['Price'].isna()]"
      ],
      "execution_count": 143,
      "outputs": [
        {
          "output_type": "execute_result",
          "data": {
            "text/html": [
              "<div>\n",
              "<style scoped>\n",
              "    .dataframe tbody tr th:only-of-type {\n",
              "        vertical-align: middle;\n",
              "    }\n",
              "\n",
              "    .dataframe tbody tr th {\n",
              "        vertical-align: top;\n",
              "    }\n",
              "\n",
              "    .dataframe thead th {\n",
              "        text-align: right;\n",
              "    }\n",
              "</style>\n",
              "<table border=\"1\" class=\"dataframe\">\n",
              "  <thead>\n",
              "    <tr style=\"text-align: right;\">\n",
              "      <th></th>\n",
              "      <th>App</th>\n",
              "      <th>Category</th>\n",
              "      <th>Rating</th>\n",
              "      <th>Reviews</th>\n",
              "      <th>Size</th>\n",
              "      <th>Installs</th>\n",
              "      <th>Type</th>\n",
              "      <th>Price</th>\n",
              "      <th>Content_Rating</th>\n",
              "      <th>Genres</th>\n",
              "      <th>Last_Updated</th>\n",
              "      <th>Current_Ver</th>\n",
              "      <th>Android_Ver</th>\n",
              "    </tr>\n",
              "  </thead>\n",
              "  <tbody>\n",
              "  </tbody>\n",
              "</table>\n",
              "</div>"
            ],
            "text/plain": [
              "Empty DataFrame\n",
              "Columns: [App, Category, Rating, Reviews, Size, Installs, Type, Price, Content_Rating, Genres, Last_Updated, Current_Ver, Android_Ver]\n",
              "Index: []"
            ]
          },
          "metadata": {},
          "execution_count": 143
        }
      ]
    },
    {
      "cell_type": "code",
      "metadata": {
        "colab": {
          "base_uri": "https://localhost:8080/"
        },
        "id": "PovWh_v1K--O",
        "outputId": "fa470beb-eb5d-4115-cde7-e17145e02113"
      },
      "source": [
        "play_s_d['Type'].unique()"
      ],
      "execution_count": 144,
      "outputs": [
        {
          "output_type": "execute_result",
          "data": {
            "text/plain": [
              "array(['Free', 'Paid', nan], dtype=object)"
            ]
          },
          "metadata": {},
          "execution_count": 144
        }
      ]
    },
    {
      "cell_type": "markdown",
      "metadata": {
        "id": "kmo6Yk5sOQYx"
      },
      "source": [
        "## we can see that there is Three unique values of Type column\n",
        "## i am thinking that replace nan with free if price is zero and paid if price is greater than zero"
      ]
    },
    {
      "cell_type": "code",
      "metadata": {
        "id": "PMy_a0-1OrEh"
      },
      "source": [
        "# replace nan with free if price is zero and paid if price is greater than zero\n",
        "play_s_d.loc[play_s_d.Price == 0, 'Type'] = \"Free\"\n",
        "play_s_d.loc[play_s_d.Price > 0, 'Type'] = \"Paid\""
      ],
      "execution_count": 145,
      "outputs": []
    },
    {
      "cell_type": "code",
      "metadata": {
        "colab": {
          "base_uri": "https://localhost:8080/",
          "height": 49
        },
        "id": "7pLoT2OWO0eK",
        "outputId": "11b13947-6a74-4ad6-ab12-451e2d131f39"
      },
      "source": [
        "play_s_d[play_s_d['Type'].isna()]"
      ],
      "execution_count": 146,
      "outputs": [
        {
          "output_type": "execute_result",
          "data": {
            "text/html": [
              "<div>\n",
              "<style scoped>\n",
              "    .dataframe tbody tr th:only-of-type {\n",
              "        vertical-align: middle;\n",
              "    }\n",
              "\n",
              "    .dataframe tbody tr th {\n",
              "        vertical-align: top;\n",
              "    }\n",
              "\n",
              "    .dataframe thead th {\n",
              "        text-align: right;\n",
              "    }\n",
              "</style>\n",
              "<table border=\"1\" class=\"dataframe\">\n",
              "  <thead>\n",
              "    <tr style=\"text-align: right;\">\n",
              "      <th></th>\n",
              "      <th>App</th>\n",
              "      <th>Category</th>\n",
              "      <th>Rating</th>\n",
              "      <th>Reviews</th>\n",
              "      <th>Size</th>\n",
              "      <th>Installs</th>\n",
              "      <th>Type</th>\n",
              "      <th>Price</th>\n",
              "      <th>Content_Rating</th>\n",
              "      <th>Genres</th>\n",
              "      <th>Last_Updated</th>\n",
              "      <th>Current_Ver</th>\n",
              "      <th>Android_Ver</th>\n",
              "    </tr>\n",
              "  </thead>\n",
              "  <tbody>\n",
              "  </tbody>\n",
              "</table>\n",
              "</div>"
            ],
            "text/plain": [
              "Empty DataFrame\n",
              "Columns: [App, Category, Rating, Reviews, Size, Installs, Type, Price, Content_Rating, Genres, Last_Updated, Current_Ver, Android_Ver]\n",
              "Index: []"
            ]
          },
          "metadata": {},
          "execution_count": 146
        }
      ]
    },
    {
      "cell_type": "code",
      "metadata": {
        "colab": {
          "base_uri": "https://localhost:8080/"
        },
        "id": "kNGbOo0zPTtg",
        "outputId": "cd6c99db-fbff-4990-8925-c5fd638014ed"
      },
      "source": [
        "play_s_d.Type.unique()"
      ],
      "execution_count": 147,
      "outputs": [
        {
          "output_type": "execute_result",
          "data": {
            "text/plain": [
              "array(['Free', 'Paid'], dtype=object)"
            ]
          },
          "metadata": {},
          "execution_count": 147
        }
      ]
    },
    {
      "cell_type": "markdown",
      "metadata": {
        "id": "zlvC-FHGPSDQ"
      },
      "source": [
        "## now i have successfully replaced NaN  values with free and paid"
      ]
    },
    {
      "cell_type": "code",
      "metadata": {
        "colab": {
          "base_uri": "https://localhost:8080/"
        },
        "id": "ZE_XocwaO4t3",
        "outputId": "69b3686a-5850-44c5-de10-9807f932676b"
      },
      "source": [
        "play_s_d.isna().sum()"
      ],
      "execution_count": 148,
      "outputs": [
        {
          "output_type": "execute_result",
          "data": {
            "text/plain": [
              "App                  0\n",
              "Category             0\n",
              "Rating               0\n",
              "Reviews              0\n",
              "Size              1695\n",
              "Installs             0\n",
              "Type                 0\n",
              "Price                0\n",
              "Content_Rating       0\n",
              "Genres               0\n",
              "Last_Updated         0\n",
              "Current_Ver          8\n",
              "Android_Ver          2\n",
              "dtype: int64"
            ]
          },
          "metadata": {},
          "execution_count": 148
        }
      ]
    },
    {
      "cell_type": "code",
      "metadata": {
        "colab": {
          "base_uri": "https://localhost:8080/",
          "height": 585
        },
        "id": "0fcbkiXCW14h",
        "outputId": "2f61793e-b7d4-438e-a28e-36f22ce06355"
      },
      "source": [
        "play_s_d[play_s_d['Size'].isna()]"
      ],
      "execution_count": 149,
      "outputs": [
        {
          "output_type": "execute_result",
          "data": {
            "text/html": [
              "<div>\n",
              "<style scoped>\n",
              "    .dataframe tbody tr th:only-of-type {\n",
              "        vertical-align: middle;\n",
              "    }\n",
              "\n",
              "    .dataframe tbody tr th {\n",
              "        vertical-align: top;\n",
              "    }\n",
              "\n",
              "    .dataframe thead th {\n",
              "        text-align: right;\n",
              "    }\n",
              "</style>\n",
              "<table border=\"1\" class=\"dataframe\">\n",
              "  <thead>\n",
              "    <tr style=\"text-align: right;\">\n",
              "      <th></th>\n",
              "      <th>App</th>\n",
              "      <th>Category</th>\n",
              "      <th>Rating</th>\n",
              "      <th>Reviews</th>\n",
              "      <th>Size</th>\n",
              "      <th>Installs</th>\n",
              "      <th>Type</th>\n",
              "      <th>Price</th>\n",
              "      <th>Content_Rating</th>\n",
              "      <th>Genres</th>\n",
              "      <th>Last_Updated</th>\n",
              "      <th>Current_Ver</th>\n",
              "      <th>Android_Ver</th>\n",
              "    </tr>\n",
              "  </thead>\n",
              "  <tbody>\n",
              "    <tr>\n",
              "      <th>37</th>\n",
              "      <td>Floor Plan Creator</td>\n",
              "      <td>ART_AND_DESIGN</td>\n",
              "      <td>4.1</td>\n",
              "      <td>36639</td>\n",
              "      <td>NaN</td>\n",
              "      <td>5000000.0</td>\n",
              "      <td>Free</td>\n",
              "      <td>0.0</td>\n",
              "      <td>Everyone</td>\n",
              "      <td>Art &amp; Design</td>\n",
              "      <td>July 14, 2018</td>\n",
              "      <td>Varies with device</td>\n",
              "      <td>2.3.3 and up</td>\n",
              "    </tr>\n",
              "    <tr>\n",
              "      <th>42</th>\n",
              "      <td>Textgram - write on photos</td>\n",
              "      <td>ART_AND_DESIGN</td>\n",
              "      <td>4.4</td>\n",
              "      <td>295221</td>\n",
              "      <td>NaN</td>\n",
              "      <td>10000000.0</td>\n",
              "      <td>Free</td>\n",
              "      <td>0.0</td>\n",
              "      <td>Everyone</td>\n",
              "      <td>Art &amp; Design</td>\n",
              "      <td>July 30, 2018</td>\n",
              "      <td>Varies with device</td>\n",
              "      <td>Varies with device</td>\n",
              "    </tr>\n",
              "    <tr>\n",
              "      <th>52</th>\n",
              "      <td>Used Cars and Trucks for Sale</td>\n",
              "      <td>AUTO_AND_VEHICLES</td>\n",
              "      <td>4.6</td>\n",
              "      <td>17057</td>\n",
              "      <td>NaN</td>\n",
              "      <td>1000000.0</td>\n",
              "      <td>Free</td>\n",
              "      <td>0.0</td>\n",
              "      <td>Everyone</td>\n",
              "      <td>Auto &amp; Vehicles</td>\n",
              "      <td>July 30, 2018</td>\n",
              "      <td>Varies with device</td>\n",
              "      <td>Varies with device</td>\n",
              "    </tr>\n",
              "    <tr>\n",
              "      <th>67</th>\n",
              "      <td>Ulysse Speedometer</td>\n",
              "      <td>AUTO_AND_VEHICLES</td>\n",
              "      <td>4.3</td>\n",
              "      <td>40211</td>\n",
              "      <td>NaN</td>\n",
              "      <td>5000000.0</td>\n",
              "      <td>Free</td>\n",
              "      <td>0.0</td>\n",
              "      <td>Everyone</td>\n",
              "      <td>Auto &amp; Vehicles</td>\n",
              "      <td>July 30, 2018</td>\n",
              "      <td>Varies with device</td>\n",
              "      <td>Varies with device</td>\n",
              "    </tr>\n",
              "    <tr>\n",
              "      <th>68</th>\n",
              "      <td>REPUVE</td>\n",
              "      <td>AUTO_AND_VEHICLES</td>\n",
              "      <td>3.9</td>\n",
              "      <td>356</td>\n",
              "      <td>NaN</td>\n",
              "      <td>100000.0</td>\n",
              "      <td>Free</td>\n",
              "      <td>0.0</td>\n",
              "      <td>Everyone</td>\n",
              "      <td>Auto &amp; Vehicles</td>\n",
              "      <td>May 25, 2018</td>\n",
              "      <td>Varies with device</td>\n",
              "      <td>Varies with device</td>\n",
              "    </tr>\n",
              "    <tr>\n",
              "      <th>...</th>\n",
              "      <td>...</td>\n",
              "      <td>...</td>\n",
              "      <td>...</td>\n",
              "      <td>...</td>\n",
              "      <td>...</td>\n",
              "      <td>...</td>\n",
              "      <td>...</td>\n",
              "      <td>...</td>\n",
              "      <td>...</td>\n",
              "      <td>...</td>\n",
              "      <td>...</td>\n",
              "      <td>...</td>\n",
              "      <td>...</td>\n",
              "    </tr>\n",
              "    <tr>\n",
              "      <th>10713</th>\n",
              "      <td>My Earthquake Alerts - US &amp; Worldwide Earthquakes</td>\n",
              "      <td>WEATHER</td>\n",
              "      <td>4.4</td>\n",
              "      <td>3471</td>\n",
              "      <td>NaN</td>\n",
              "      <td>100000.0</td>\n",
              "      <td>Free</td>\n",
              "      <td>0.0</td>\n",
              "      <td>Everyone</td>\n",
              "      <td>Weather</td>\n",
              "      <td>July 24, 2018</td>\n",
              "      <td>Varies with device</td>\n",
              "      <td>Varies with device</td>\n",
              "    </tr>\n",
              "    <tr>\n",
              "      <th>10725</th>\n",
              "      <td>Posta App</td>\n",
              "      <td>MAPS_AND_NAVIGATION</td>\n",
              "      <td>3.6</td>\n",
              "      <td>8</td>\n",
              "      <td>NaN</td>\n",
              "      <td>1000.0</td>\n",
              "      <td>Free</td>\n",
              "      <td>0.0</td>\n",
              "      <td>Everyone</td>\n",
              "      <td>Maps &amp; Navigation</td>\n",
              "      <td>September 27, 2017</td>\n",
              "      <td>Varies with device</td>\n",
              "      <td>4.4 and up</td>\n",
              "    </tr>\n",
              "    <tr>\n",
              "      <th>10765</th>\n",
              "      <td>Chat For Strangers - Video Chat</td>\n",
              "      <td>SOCIAL</td>\n",
              "      <td>3.4</td>\n",
              "      <td>622</td>\n",
              "      <td>NaN</td>\n",
              "      <td>100000.0</td>\n",
              "      <td>Free</td>\n",
              "      <td>0.0</td>\n",
              "      <td>Mature 17+</td>\n",
              "      <td>Social</td>\n",
              "      <td>May 23, 2018</td>\n",
              "      <td>Varies with device</td>\n",
              "      <td>Varies with device</td>\n",
              "    </tr>\n",
              "    <tr>\n",
              "      <th>10826</th>\n",
              "      <td>Frim: get new friends on local chat rooms</td>\n",
              "      <td>SOCIAL</td>\n",
              "      <td>4.0</td>\n",
              "      <td>88486</td>\n",
              "      <td>NaN</td>\n",
              "      <td>5000000.0</td>\n",
              "      <td>Free</td>\n",
              "      <td>0.0</td>\n",
              "      <td>Mature 17+</td>\n",
              "      <td>Social</td>\n",
              "      <td>March 23, 2018</td>\n",
              "      <td>Varies with device</td>\n",
              "      <td>Varies with device</td>\n",
              "    </tr>\n",
              "    <tr>\n",
              "      <th>10839</th>\n",
              "      <td>The SCP Foundation DB fr nn5n</td>\n",
              "      <td>BOOKS_AND_REFERENCE</td>\n",
              "      <td>4.5</td>\n",
              "      <td>114</td>\n",
              "      <td>NaN</td>\n",
              "      <td>1000.0</td>\n",
              "      <td>Free</td>\n",
              "      <td>0.0</td>\n",
              "      <td>Mature 17+</td>\n",
              "      <td>Books &amp; Reference</td>\n",
              "      <td>January 19, 2015</td>\n",
              "      <td>Varies with device</td>\n",
              "      <td>Varies with device</td>\n",
              "    </tr>\n",
              "  </tbody>\n",
              "</table>\n",
              "<p>1695 rows × 13 columns</p>\n",
              "</div>"
            ],
            "text/plain": [
              "                                                     App  ...         Android_Ver\n",
              "37                                    Floor Plan Creator  ...        2.3.3 and up\n",
              "42                            Textgram - write on photos  ...  Varies with device\n",
              "52                         Used Cars and Trucks for Sale  ...  Varies with device\n",
              "67                                    Ulysse Speedometer  ...  Varies with device\n",
              "68                                                REPUVE  ...  Varies with device\n",
              "...                                                  ...  ...                 ...\n",
              "10713  My Earthquake Alerts - US & Worldwide Earthquakes  ...  Varies with device\n",
              "10725                                          Posta App  ...          4.4 and up\n",
              "10765                    Chat For Strangers - Video Chat  ...  Varies with device\n",
              "10826          Frim: get new friends on local chat rooms  ...  Varies with device\n",
              "10839                      The SCP Foundation DB fr nn5n  ...  Varies with device\n",
              "\n",
              "[1695 rows x 13 columns]"
            ]
          },
          "metadata": {},
          "execution_count": 149
        }
      ]
    },
    {
      "cell_type": "markdown",
      "metadata": {
        "id": "lK58uzDKbplw"
      },
      "source": [
        "## Let us replace the missing values of the Size Column with the Mean value of that entire column."
      ]
    },
    {
      "cell_type": "code",
      "metadata": {
        "colab": {
          "base_uri": "https://localhost:8080/"
        },
        "id": "lP2tXY53RCIo",
        "outputId": "b826e3fa-f1fb-45ac-9ff7-ba350d3aa359"
      },
      "source": [
        "# lets see Mean of the Size column\n",
        "play_s_d['Size'].mean()"
      ],
      "execution_count": 150,
      "outputs": [
        {
          "output_type": "execute_result",
          "data": {
            "text/plain": [
              "21.516529524330146"
            ]
          },
          "metadata": {},
          "execution_count": 150
        }
      ]
    },
    {
      "cell_type": "code",
      "metadata": {
        "id": "Ep6OYtygbDum"
      },
      "source": [
        "# replacing null value in Size column with Mean\n",
        "play_s_d['Size'].fillna(value=21.5, inplace = True)"
      ],
      "execution_count": 151,
      "outputs": []
    },
    {
      "cell_type": "code",
      "metadata": {
        "colab": {
          "base_uri": "https://localhost:8080/",
          "height": 49
        },
        "id": "GVLmnrTCcY0R",
        "outputId": "a769e150-c150-44e1-b5a2-3855ec7f39c2"
      },
      "source": [
        "# Check if there is any null value\n",
        "play_s_d[play_s_d['Size'].isna()]"
      ],
      "execution_count": 152,
      "outputs": [
        {
          "output_type": "execute_result",
          "data": {
            "text/html": [
              "<div>\n",
              "<style scoped>\n",
              "    .dataframe tbody tr th:only-of-type {\n",
              "        vertical-align: middle;\n",
              "    }\n",
              "\n",
              "    .dataframe tbody tr th {\n",
              "        vertical-align: top;\n",
              "    }\n",
              "\n",
              "    .dataframe thead th {\n",
              "        text-align: right;\n",
              "    }\n",
              "</style>\n",
              "<table border=\"1\" class=\"dataframe\">\n",
              "  <thead>\n",
              "    <tr style=\"text-align: right;\">\n",
              "      <th></th>\n",
              "      <th>App</th>\n",
              "      <th>Category</th>\n",
              "      <th>Rating</th>\n",
              "      <th>Reviews</th>\n",
              "      <th>Size</th>\n",
              "      <th>Installs</th>\n",
              "      <th>Type</th>\n",
              "      <th>Price</th>\n",
              "      <th>Content_Rating</th>\n",
              "      <th>Genres</th>\n",
              "      <th>Last_Updated</th>\n",
              "      <th>Current_Ver</th>\n",
              "      <th>Android_Ver</th>\n",
              "    </tr>\n",
              "  </thead>\n",
              "  <tbody>\n",
              "  </tbody>\n",
              "</table>\n",
              "</div>"
            ],
            "text/plain": [
              "Empty DataFrame\n",
              "Columns: [App, Category, Rating, Reviews, Size, Installs, Type, Price, Content_Rating, Genres, Last_Updated, Current_Ver, Android_Ver]\n",
              "Index: []"
            ]
          },
          "metadata": {},
          "execution_count": 152
        }
      ]
    },
    {
      "cell_type": "markdown",
      "metadata": {
        "id": "SOYFD74yi-oD"
      },
      "source": [
        "## so now we have succefully replaced null value in Column Size"
      ]
    },
    {
      "cell_type": "markdown",
      "metadata": {
        "id": "S5XC3ozSc7RD"
      },
      "source": [
        "## so now we have two columns which are having null values\n",
        "## Android_Ver and Current_Ver"
      ]
    },
    {
      "cell_type": "code",
      "metadata": {
        "colab": {
          "base_uri": "https://localhost:8080/",
          "height": 110
        },
        "id": "IjFvybondEFy",
        "outputId": "b110040e-1df1-41cd-a61d-2c6bdc20a44b"
      },
      "source": [
        "play_s_d[play_s_d['Android_Ver'].isna()]"
      ],
      "execution_count": 153,
      "outputs": [
        {
          "output_type": "execute_result",
          "data": {
            "text/html": [
              "<div>\n",
              "<style scoped>\n",
              "    .dataframe tbody tr th:only-of-type {\n",
              "        vertical-align: middle;\n",
              "    }\n",
              "\n",
              "    .dataframe tbody tr th {\n",
              "        vertical-align: top;\n",
              "    }\n",
              "\n",
              "    .dataframe thead th {\n",
              "        text-align: right;\n",
              "    }\n",
              "</style>\n",
              "<table border=\"1\" class=\"dataframe\">\n",
              "  <thead>\n",
              "    <tr style=\"text-align: right;\">\n",
              "      <th></th>\n",
              "      <th>App</th>\n",
              "      <th>Category</th>\n",
              "      <th>Rating</th>\n",
              "      <th>Reviews</th>\n",
              "      <th>Size</th>\n",
              "      <th>Installs</th>\n",
              "      <th>Type</th>\n",
              "      <th>Price</th>\n",
              "      <th>Content_Rating</th>\n",
              "      <th>Genres</th>\n",
              "      <th>Last_Updated</th>\n",
              "      <th>Current_Ver</th>\n",
              "      <th>Android_Ver</th>\n",
              "    </tr>\n",
              "  </thead>\n",
              "  <tbody>\n",
              "    <tr>\n",
              "      <th>4453</th>\n",
              "      <td>[substratum] Vacuum: P</td>\n",
              "      <td>PERSONALIZATION</td>\n",
              "      <td>4.4</td>\n",
              "      <td>230</td>\n",
              "      <td>11.0</td>\n",
              "      <td>1000.0</td>\n",
              "      <td>Paid</td>\n",
              "      <td>1.49</td>\n",
              "      <td>Everyone</td>\n",
              "      <td>Personalization</td>\n",
              "      <td>July 20, 2018</td>\n",
              "      <td>4.4</td>\n",
              "      <td>NaN</td>\n",
              "    </tr>\n",
              "    <tr>\n",
              "      <th>4490</th>\n",
              "      <td>Pi Dark [substratum]</td>\n",
              "      <td>PERSONALIZATION</td>\n",
              "      <td>4.5</td>\n",
              "      <td>189</td>\n",
              "      <td>2.1</td>\n",
              "      <td>10000.0</td>\n",
              "      <td>Free</td>\n",
              "      <td>0.00</td>\n",
              "      <td>Everyone</td>\n",
              "      <td>Personalization</td>\n",
              "      <td>March 27, 2018</td>\n",
              "      <td>1.1</td>\n",
              "      <td>NaN</td>\n",
              "    </tr>\n",
              "  </tbody>\n",
              "</table>\n",
              "</div>"
            ],
            "text/plain": [
              "                         App         Category  ...  Current_Ver  Android_Ver\n",
              "4453  [substratum] Vacuum: P  PERSONALIZATION  ...          4.4          NaN\n",
              "4490    Pi Dark [substratum]  PERSONALIZATION  ...          1.1          NaN\n",
              "\n",
              "[2 rows x 13 columns]"
            ]
          },
          "metadata": {},
          "execution_count": 153
        }
      ]
    },
    {
      "cell_type": "code",
      "metadata": {
        "colab": {
          "base_uri": "https://localhost:8080/",
          "height": 346
        },
        "id": "tCTwZo5OdP5J",
        "outputId": "7ba9431e-fdfc-4db6-a607-6e081d1058eb"
      },
      "source": [
        "play_s_d[play_s_d['Current_Ver'].isna()]"
      ],
      "execution_count": 154,
      "outputs": [
        {
          "output_type": "execute_result",
          "data": {
            "text/html": [
              "<div>\n",
              "<style scoped>\n",
              "    .dataframe tbody tr th:only-of-type {\n",
              "        vertical-align: middle;\n",
              "    }\n",
              "\n",
              "    .dataframe tbody tr th {\n",
              "        vertical-align: top;\n",
              "    }\n",
              "\n",
              "    .dataframe thead th {\n",
              "        text-align: right;\n",
              "    }\n",
              "</style>\n",
              "<table border=\"1\" class=\"dataframe\">\n",
              "  <thead>\n",
              "    <tr style=\"text-align: right;\">\n",
              "      <th></th>\n",
              "      <th>App</th>\n",
              "      <th>Category</th>\n",
              "      <th>Rating</th>\n",
              "      <th>Reviews</th>\n",
              "      <th>Size</th>\n",
              "      <th>Installs</th>\n",
              "      <th>Type</th>\n",
              "      <th>Price</th>\n",
              "      <th>Content_Rating</th>\n",
              "      <th>Genres</th>\n",
              "      <th>Last_Updated</th>\n",
              "      <th>Current_Ver</th>\n",
              "      <th>Android_Ver</th>\n",
              "    </tr>\n",
              "  </thead>\n",
              "  <tbody>\n",
              "    <tr>\n",
              "      <th>15</th>\n",
              "      <td>Learn To Draw Kawaii Characters</td>\n",
              "      <td>ART_AND_DESIGN</td>\n",
              "      <td>3.2</td>\n",
              "      <td>55</td>\n",
              "      <td>2.700</td>\n",
              "      <td>5000.0</td>\n",
              "      <td>Free</td>\n",
              "      <td>0.00</td>\n",
              "      <td>Everyone</td>\n",
              "      <td>Art &amp; Design</td>\n",
              "      <td>June 6, 2018</td>\n",
              "      <td>NaN</td>\n",
              "      <td>4.2 and up</td>\n",
              "    </tr>\n",
              "    <tr>\n",
              "      <th>1553</th>\n",
              "      <td>Market Update Helper</td>\n",
              "      <td>LIBRARIES_AND_DEMO</td>\n",
              "      <td>4.1</td>\n",
              "      <td>20145</td>\n",
              "      <td>0.011</td>\n",
              "      <td>1000000.0</td>\n",
              "      <td>Free</td>\n",
              "      <td>0.00</td>\n",
              "      <td>Everyone</td>\n",
              "      <td>Libraries &amp; Demo</td>\n",
              "      <td>February 12, 2013</td>\n",
              "      <td>NaN</td>\n",
              "      <td>1.5 and up</td>\n",
              "    </tr>\n",
              "    <tr>\n",
              "      <th>6322</th>\n",
              "      <td>Virtual DJ Sound Mixer</td>\n",
              "      <td>TOOLS</td>\n",
              "      <td>4.2</td>\n",
              "      <td>4010</td>\n",
              "      <td>8.700</td>\n",
              "      <td>500000.0</td>\n",
              "      <td>Free</td>\n",
              "      <td>0.00</td>\n",
              "      <td>Everyone</td>\n",
              "      <td>Tools</td>\n",
              "      <td>May 10, 2017</td>\n",
              "      <td>NaN</td>\n",
              "      <td>4.0 and up</td>\n",
              "    </tr>\n",
              "    <tr>\n",
              "      <th>6803</th>\n",
              "      <td>BT Master</td>\n",
              "      <td>FAMILY</td>\n",
              "      <td>4.1</td>\n",
              "      <td>0</td>\n",
              "      <td>0.222</td>\n",
              "      <td>100.0</td>\n",
              "      <td>Free</td>\n",
              "      <td>0.00</td>\n",
              "      <td>Everyone</td>\n",
              "      <td>Education</td>\n",
              "      <td>November 6, 2016</td>\n",
              "      <td>NaN</td>\n",
              "      <td>1.6 and up</td>\n",
              "    </tr>\n",
              "    <tr>\n",
              "      <th>7333</th>\n",
              "      <td>Dots puzzle</td>\n",
              "      <td>FAMILY</td>\n",
              "      <td>4.0</td>\n",
              "      <td>179</td>\n",
              "      <td>14.000</td>\n",
              "      <td>50000.0</td>\n",
              "      <td>Paid</td>\n",
              "      <td>0.99</td>\n",
              "      <td>Everyone</td>\n",
              "      <td>Puzzle</td>\n",
              "      <td>April 18, 2018</td>\n",
              "      <td>NaN</td>\n",
              "      <td>4.0 and up</td>\n",
              "    </tr>\n",
              "    <tr>\n",
              "      <th>7407</th>\n",
              "      <td>Calculate My IQ</td>\n",
              "      <td>FAMILY</td>\n",
              "      <td>4.1</td>\n",
              "      <td>44</td>\n",
              "      <td>7.200</td>\n",
              "      <td>10000.0</td>\n",
              "      <td>Free</td>\n",
              "      <td>0.00</td>\n",
              "      <td>Everyone</td>\n",
              "      <td>Entertainment</td>\n",
              "      <td>April 3, 2017</td>\n",
              "      <td>NaN</td>\n",
              "      <td>2.3 and up</td>\n",
              "    </tr>\n",
              "    <tr>\n",
              "      <th>7730</th>\n",
              "      <td>UFO-CQ</td>\n",
              "      <td>TOOLS</td>\n",
              "      <td>4.1</td>\n",
              "      <td>1</td>\n",
              "      <td>0.237</td>\n",
              "      <td>10.0</td>\n",
              "      <td>Paid</td>\n",
              "      <td>0.99</td>\n",
              "      <td>Everyone</td>\n",
              "      <td>Tools</td>\n",
              "      <td>July 4, 2016</td>\n",
              "      <td>NaN</td>\n",
              "      <td>2.0 and up</td>\n",
              "    </tr>\n",
              "    <tr>\n",
              "      <th>10342</th>\n",
              "      <td>La Fe de Jesus</td>\n",
              "      <td>BOOKS_AND_REFERENCE</td>\n",
              "      <td>4.1</td>\n",
              "      <td>8</td>\n",
              "      <td>0.658</td>\n",
              "      <td>1000.0</td>\n",
              "      <td>Free</td>\n",
              "      <td>0.00</td>\n",
              "      <td>Everyone</td>\n",
              "      <td>Books &amp; Reference</td>\n",
              "      <td>January 31, 2017</td>\n",
              "      <td>NaN</td>\n",
              "      <td>3.0 and up</td>\n",
              "    </tr>\n",
              "  </tbody>\n",
              "</table>\n",
              "</div>"
            ],
            "text/plain": [
              "                                   App  ... Android_Ver\n",
              "15     Learn To Draw Kawaii Characters  ...  4.2 and up\n",
              "1553              Market Update Helper  ...  1.5 and up\n",
              "6322            Virtual DJ Sound Mixer  ...  4.0 and up\n",
              "6803                         BT Master  ...  1.6 and up\n",
              "7333                       Dots puzzle  ...  4.0 and up\n",
              "7407                   Calculate My IQ  ...  2.3 and up\n",
              "7730                            UFO-CQ  ...  2.0 and up\n",
              "10342                   La Fe de Jesus  ...  3.0 and up\n",
              "\n",
              "[8 rows x 13 columns]"
            ]
          },
          "metadata": {},
          "execution_count": 154
        }
      ]
    },
    {
      "cell_type": "code",
      "metadata": {
        "colab": {
          "base_uri": "https://localhost:8080/"
        },
        "id": "fahynxBodkeI",
        "outputId": "19d27bab-5cbf-4b0c-d42e-e619dac94ca3"
      },
      "source": [
        "play_s_d['Android_Ver'].value_counts()[0:1]"
      ],
      "execution_count": 157,
      "outputs": [
        {
          "output_type": "execute_result",
          "data": {
            "text/plain": [
              "4.1 and up    2451\n",
              "Name: Android_Ver, dtype: int64"
            ]
          },
          "metadata": {},
          "execution_count": 157
        }
      ]
    },
    {
      "cell_type": "code",
      "metadata": {
        "colab": {
          "base_uri": "https://localhost:8080/"
        },
        "id": "SU9a80aFfR4c",
        "outputId": "c4d7e827-ac2e-4bcf-b06f-a5a5cec9f1c1"
      },
      "source": [
        "play_s_d['Current_Ver'].value_counts()[0:1]"
      ],
      "execution_count": 158,
      "outputs": [
        {
          "output_type": "execute_result",
          "data": {
            "text/plain": [
              "Varies with device    1459\n",
              "Name: Current_Ver, dtype: int64"
            ]
          },
          "metadata": {},
          "execution_count": 158
        }
      ]
    },
    {
      "cell_type": "markdown",
      "metadata": {
        "id": "07yQtevFhiQF"
      },
      "source": [
        "## I am thinking that in Android_Ver and Current_Ver columns i can replace null value with value which is having highest number of count"
      ]
    },
    {
      "cell_type": "code",
      "metadata": {
        "id": "M3e9KknliWto"
      },
      "source": [
        "# replacing null value in column Android_ver with 4.1 and up\n",
        "play_s_d['Android_Ver'].fillna('4.1 and up', inplace = True)"
      ],
      "execution_count": 159,
      "outputs": []
    },
    {
      "cell_type": "code",
      "metadata": {
        "id": "umDDpnyjjkKu"
      },
      "source": [
        "# replacing null value in column Current_ver with Varies with device\n",
        "play_s_d['Current_Ver'].fillna('Varies with device', inplace = True)"
      ],
      "execution_count": 160,
      "outputs": []
    },
    {
      "cell_type": "code",
      "metadata": {
        "colab": {
          "base_uri": "https://localhost:8080/",
          "height": 49
        },
        "id": "dV9N6vCJjv94",
        "outputId": "ca2f1e5e-f1d6-4b86-ded2-2410a2c72652"
      },
      "source": [
        "play_s_d[play_s_d['Android_Ver'].isna()]"
      ],
      "execution_count": 161,
      "outputs": [
        {
          "output_type": "execute_result",
          "data": {
            "text/html": [
              "<div>\n",
              "<style scoped>\n",
              "    .dataframe tbody tr th:only-of-type {\n",
              "        vertical-align: middle;\n",
              "    }\n",
              "\n",
              "    .dataframe tbody tr th {\n",
              "        vertical-align: top;\n",
              "    }\n",
              "\n",
              "    .dataframe thead th {\n",
              "        text-align: right;\n",
              "    }\n",
              "</style>\n",
              "<table border=\"1\" class=\"dataframe\">\n",
              "  <thead>\n",
              "    <tr style=\"text-align: right;\">\n",
              "      <th></th>\n",
              "      <th>App</th>\n",
              "      <th>Category</th>\n",
              "      <th>Rating</th>\n",
              "      <th>Reviews</th>\n",
              "      <th>Size</th>\n",
              "      <th>Installs</th>\n",
              "      <th>Type</th>\n",
              "      <th>Price</th>\n",
              "      <th>Content_Rating</th>\n",
              "      <th>Genres</th>\n",
              "      <th>Last_Updated</th>\n",
              "      <th>Current_Ver</th>\n",
              "      <th>Android_Ver</th>\n",
              "    </tr>\n",
              "  </thead>\n",
              "  <tbody>\n",
              "  </tbody>\n",
              "</table>\n",
              "</div>"
            ],
            "text/plain": [
              "Empty DataFrame\n",
              "Columns: [App, Category, Rating, Reviews, Size, Installs, Type, Price, Content_Rating, Genres, Last_Updated, Current_Ver, Android_Ver]\n",
              "Index: []"
            ]
          },
          "metadata": {},
          "execution_count": 161
        }
      ]
    },
    {
      "cell_type": "code",
      "metadata": {
        "colab": {
          "base_uri": "https://localhost:8080/",
          "height": 49
        },
        "id": "tdb9J8E4jyxY",
        "outputId": "e1ed44b4-fb75-4547-9d74-c31ae2f1bfa7"
      },
      "source": [
        "play_s_d[play_s_d['Current_Ver'].isna()]"
      ],
      "execution_count": 162,
      "outputs": [
        {
          "output_type": "execute_result",
          "data": {
            "text/html": [
              "<div>\n",
              "<style scoped>\n",
              "    .dataframe tbody tr th:only-of-type {\n",
              "        vertical-align: middle;\n",
              "    }\n",
              "\n",
              "    .dataframe tbody tr th {\n",
              "        vertical-align: top;\n",
              "    }\n",
              "\n",
              "    .dataframe thead th {\n",
              "        text-align: right;\n",
              "    }\n",
              "</style>\n",
              "<table border=\"1\" class=\"dataframe\">\n",
              "  <thead>\n",
              "    <tr style=\"text-align: right;\">\n",
              "      <th></th>\n",
              "      <th>App</th>\n",
              "      <th>Category</th>\n",
              "      <th>Rating</th>\n",
              "      <th>Reviews</th>\n",
              "      <th>Size</th>\n",
              "      <th>Installs</th>\n",
              "      <th>Type</th>\n",
              "      <th>Price</th>\n",
              "      <th>Content_Rating</th>\n",
              "      <th>Genres</th>\n",
              "      <th>Last_Updated</th>\n",
              "      <th>Current_Ver</th>\n",
              "      <th>Android_Ver</th>\n",
              "    </tr>\n",
              "  </thead>\n",
              "  <tbody>\n",
              "  </tbody>\n",
              "</table>\n",
              "</div>"
            ],
            "text/plain": [
              "Empty DataFrame\n",
              "Columns: [App, Category, Rating, Reviews, Size, Installs, Type, Price, Content_Rating, Genres, Last_Updated, Current_Ver, Android_Ver]\n",
              "Index: []"
            ]
          },
          "metadata": {},
          "execution_count": 162
        }
      ]
    },
    {
      "cell_type": "code",
      "metadata": {
        "colab": {
          "base_uri": "https://localhost:8080/"
        },
        "id": "X8MxYXnekSK0",
        "outputId": "16b37139-fa7a-4cf4-877e-8d80528fae73"
      },
      "source": [
        "play_s_d.isna().sum()"
      ],
      "execution_count": 163,
      "outputs": [
        {
          "output_type": "execute_result",
          "data": {
            "text/plain": [
              "App               0\n",
              "Category          0\n",
              "Rating            0\n",
              "Reviews           0\n",
              "Size              0\n",
              "Installs          0\n",
              "Type              0\n",
              "Price             0\n",
              "Content_Rating    0\n",
              "Genres            0\n",
              "Last_Updated      0\n",
              "Current_Ver       0\n",
              "Android_Ver       0\n",
              "dtype: int64"
            ]
          },
          "metadata": {},
          "execution_count": 163
        }
      ]
    },
    {
      "cell_type": "markdown",
      "metadata": {
        "id": "x0Jk02P7kjS8"
      },
      "source": [
        "## We have Successfully replaced null values in every column\n",
        "## so now we dont have any column which is having null values"
      ]
    },
    {
      "cell_type": "markdown",
      "metadata": {
        "id": "5QDR7Pugls2i"
      },
      "source": [
        "## Lets move to user_review Dataframe"
      ]
    },
    {
      "cell_type": "code",
      "metadata": {
        "colab": {
          "base_uri": "https://localhost:8080/",
          "height": 357
        },
        "id": "nNhgd2EFl_zx",
        "outputId": "794815dc-4be7-4b3a-c4c9-8db1259e387e"
      },
      "source": [
        "user_review.head(10)"
      ],
      "execution_count": 165,
      "outputs": [
        {
          "output_type": "execute_result",
          "data": {
            "text/html": [
              "<div>\n",
              "<style scoped>\n",
              "    .dataframe tbody tr th:only-of-type {\n",
              "        vertical-align: middle;\n",
              "    }\n",
              "\n",
              "    .dataframe tbody tr th {\n",
              "        vertical-align: top;\n",
              "    }\n",
              "\n",
              "    .dataframe thead th {\n",
              "        text-align: right;\n",
              "    }\n",
              "</style>\n",
              "<table border=\"1\" class=\"dataframe\">\n",
              "  <thead>\n",
              "    <tr style=\"text-align: right;\">\n",
              "      <th></th>\n",
              "      <th>App</th>\n",
              "      <th>Translated_Review</th>\n",
              "      <th>Sentiment</th>\n",
              "      <th>Sentiment_Polarity</th>\n",
              "      <th>Sentiment_Subjectivity</th>\n",
              "    </tr>\n",
              "  </thead>\n",
              "  <tbody>\n",
              "    <tr>\n",
              "      <th>0</th>\n",
              "      <td>10 Best Foods for You</td>\n",
              "      <td>I like eat delicious food. That's I'm cooking ...</td>\n",
              "      <td>Positive</td>\n",
              "      <td>1.00</td>\n",
              "      <td>0.533333</td>\n",
              "    </tr>\n",
              "    <tr>\n",
              "      <th>1</th>\n",
              "      <td>10 Best Foods for You</td>\n",
              "      <td>This help eating healthy exercise regular basis</td>\n",
              "      <td>Positive</td>\n",
              "      <td>0.25</td>\n",
              "      <td>0.288462</td>\n",
              "    </tr>\n",
              "    <tr>\n",
              "      <th>2</th>\n",
              "      <td>10 Best Foods for You</td>\n",
              "      <td>NaN</td>\n",
              "      <td>NaN</td>\n",
              "      <td>NaN</td>\n",
              "      <td>NaN</td>\n",
              "    </tr>\n",
              "    <tr>\n",
              "      <th>3</th>\n",
              "      <td>10 Best Foods for You</td>\n",
              "      <td>Works great especially going grocery store</td>\n",
              "      <td>Positive</td>\n",
              "      <td>0.40</td>\n",
              "      <td>0.875000</td>\n",
              "    </tr>\n",
              "    <tr>\n",
              "      <th>4</th>\n",
              "      <td>10 Best Foods for You</td>\n",
              "      <td>Best idea us</td>\n",
              "      <td>Positive</td>\n",
              "      <td>1.00</td>\n",
              "      <td>0.300000</td>\n",
              "    </tr>\n",
              "    <tr>\n",
              "      <th>5</th>\n",
              "      <td>10 Best Foods for You</td>\n",
              "      <td>Best way</td>\n",
              "      <td>Positive</td>\n",
              "      <td>1.00</td>\n",
              "      <td>0.300000</td>\n",
              "    </tr>\n",
              "    <tr>\n",
              "      <th>6</th>\n",
              "      <td>10 Best Foods for You</td>\n",
              "      <td>Amazing</td>\n",
              "      <td>Positive</td>\n",
              "      <td>0.60</td>\n",
              "      <td>0.900000</td>\n",
              "    </tr>\n",
              "    <tr>\n",
              "      <th>7</th>\n",
              "      <td>10 Best Foods for You</td>\n",
              "      <td>NaN</td>\n",
              "      <td>NaN</td>\n",
              "      <td>NaN</td>\n",
              "      <td>NaN</td>\n",
              "    </tr>\n",
              "    <tr>\n",
              "      <th>8</th>\n",
              "      <td>10 Best Foods for You</td>\n",
              "      <td>Looking forward app,</td>\n",
              "      <td>Neutral</td>\n",
              "      <td>0.00</td>\n",
              "      <td>0.000000</td>\n",
              "    </tr>\n",
              "    <tr>\n",
              "      <th>9</th>\n",
              "      <td>10 Best Foods for You</td>\n",
              "      <td>It helpful site ! It help foods get !</td>\n",
              "      <td>Neutral</td>\n",
              "      <td>0.00</td>\n",
              "      <td>0.000000</td>\n",
              "    </tr>\n",
              "  </tbody>\n",
              "</table>\n",
              "</div>"
            ],
            "text/plain": [
              "                     App  ... Sentiment_Subjectivity\n",
              "0  10 Best Foods for You  ...               0.533333\n",
              "1  10 Best Foods for You  ...               0.288462\n",
              "2  10 Best Foods for You  ...                    NaN\n",
              "3  10 Best Foods for You  ...               0.875000\n",
              "4  10 Best Foods for You  ...               0.300000\n",
              "5  10 Best Foods for You  ...               0.300000\n",
              "6  10 Best Foods for You  ...               0.900000\n",
              "7  10 Best Foods for You  ...                    NaN\n",
              "8  10 Best Foods for You  ...               0.000000\n",
              "9  10 Best Foods for You  ...               0.000000\n",
              "\n",
              "[10 rows x 5 columns]"
            ]
          },
          "metadata": {},
          "execution_count": 165
        }
      ]
    },
    {
      "cell_type": "code",
      "metadata": {
        "colab": {
          "base_uri": "https://localhost:8080/"
        },
        "id": "MAKPC7mDkdEq",
        "outputId": "f6cbd952-2133-4723-ad29-4c37f459fa6e"
      },
      "source": [
        "user_review.info()"
      ],
      "execution_count": 164,
      "outputs": [
        {
          "output_type": "stream",
          "name": "stdout",
          "text": [
            "<class 'pandas.core.frame.DataFrame'>\n",
            "RangeIndex: 64295 entries, 0 to 64294\n",
            "Data columns (total 5 columns):\n",
            " #   Column                  Non-Null Count  Dtype  \n",
            "---  ------                  --------------  -----  \n",
            " 0   App                     64295 non-null  object \n",
            " 1   Translated_Review       37427 non-null  object \n",
            " 2   Sentiment               37432 non-null  object \n",
            " 3   Sentiment_Polarity      37432 non-null  float64\n",
            " 4   Sentiment_Subjectivity  37432 non-null  float64\n",
            "dtypes: float64(2), object(3)\n",
            "memory usage: 2.5+ MB\n"
          ]
        }
      ]
    },
    {
      "cell_type": "code",
      "metadata": {
        "colab": {
          "base_uri": "https://localhost:8080/"
        },
        "id": "lq1e_csDm2rB",
        "outputId": "f15650cb-9fc4-469d-b638-21ef51d2d3be"
      },
      "source": [
        "user_review.isna().sum()"
      ],
      "execution_count": 167,
      "outputs": [
        {
          "output_type": "execute_result",
          "data": {
            "text/plain": [
              "App                           0\n",
              "Translated_Review         26868\n",
              "Sentiment                 26863\n",
              "Sentiment_Polarity        26863\n",
              "Sentiment_Subjectivity    26863\n",
              "dtype: int64"
            ]
          },
          "metadata": {},
          "execution_count": 167
        }
      ]
    },
    {
      "cell_type": "code",
      "metadata": {
        "id": "D1_bsLnbqnes"
      },
      "source": [
        ""
      ],
      "execution_count": null,
      "outputs": []
    }
  ]
}